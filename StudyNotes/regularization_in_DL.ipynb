{
  "nbformat": 4,
  "nbformat_minor": 0,
  "metadata": {
    "colab": {
      "provenance": []
    },
    "kernelspec": {
      "name": "python3",
      "display_name": "Python 3"
    },
    "language_info": {
      "name": "python"
    }
  },
  "cells": [
    {
      "cell_type": "code",
      "execution_count": null,
      "metadata": {
        "id": "XEEU0bzZCrec"
      },
      "outputs": [],
      "source": [
        "import numpy as np\n",
        "import matplotlib.pyplot as plt\n",
        "from sklearn.datasets import make_moons\n",
        "import seaborn as sns\n",
        "from mlxtend.plotting import plot_decision_regions\n",
        "\n",
        "import tensorflow\n",
        "from tensorflow.keras.models import Sequential\n",
        "from tensorflow.keras.layers import Dense\n",
        "from tensorflow.keras.layers import Dropout\n",
        "from tensorflow.keras.optimizers import Adam"
      ]
    },
    {
      "cell_type": "code",
      "source": [
        "X, y = make_moons(100, noise=0.25,random_state=2)"
      ],
      "metadata": {
        "id": "lpjYZPGlCsRy"
      },
      "execution_count": null,
      "outputs": []
    },
    {
      "cell_type": "code",
      "source": [
        "import matplotlib.pyplot as plt\n",
        "plt.scatter(X[:,0], X[:,1], c=y)\n",
        "plt.show()"
      ],
      "metadata": {
        "colab": {
          "base_uri": "https://localhost:8080/",
          "height": 265
        },
        "id": "tJXFNxw7Cv4A",
        "outputId": "93ebe8c6-8ed6-496e-d25f-55798e509cc9"
      },
      "execution_count": null,
      "outputs": [
        {
          "output_type": "display_data",
          "data": {
            "text/plain": [
              "<Figure size 432x288 with 1 Axes>"
            ],
            "image/png": "[encoded data removed]"
          },
          "metadata": {
            "needs_background": "light"
          }
        }
      ]
    },
    {
      "cell_type": "code",
      "source": [
        "model1 = Sequential()\n",
        "\n",
        "model1.add(Dense(128,input_dim=2, activation=\"relu\"))\n",
        "model1.add(Dense(128, activation=\"relu\"))\n",
        "model1.add(Dense(1,activation='sigmoid'))\n",
        "\n",
        "model1.summary()"
      ],
      "metadata": {
        "colab": {
          "base_uri": "https://localhost:8080/"
        },
        "id": "wcHQFoH-C14o",
        "outputId": "b054e7f4-1520-4d85-b647-0bb7e2d3c3ce"
      },
      "execution_count": null,
      "outputs": [
        {
          "output_type": "stream",
          "name": "stdout",
          "text": [
            "Model: \"sequential\"\n",
            "_________________________________________________________________\n",
            " Layer (type)                Output Shape              Param #   \n",
            "=================================================================\n",
            " dense (Dense)               (None, 128)               384       \n",
            "                                                                 \n",
            " dense_1 (Dense)             (None, 128)               16512     \n",
            "                                                                 \n",
            " dense_2 (Dense)             (None, 1)                 129       \n",
            "                                                                 \n",
            "=================================================================\n",
            "Total params: 17,025\n",
            "Trainable params: 17,025\n",
            "Non-trainable params: 0\n",
            "_________________________________________________________________\n"
          ]
        }
      ]
    },
    {
      "cell_type": "code",
      "source": [
        "adam = Adam(learning_rate=0.01)\n",
        "model1.compile(loss='binary_crossentropy', optimizer=adam, metrics=['accuracy'])\n",
        "\n",
        "history1 = model1.fit(X, y, epochs=2000, validation_split = 0.2,verbose=0)"
      ],
      "metadata": {
        "id": "vrGZEwyIC9aE"
      },
      "execution_count": null,
      "outputs": []
    },
    {
      "cell_type": "code",
      "source": [
        "plot_decision_regions(X, y.astype('int'), clf=model1, legend=2)\n",
        "plt.xlim(-2,3)\n",
        "plt.ylim(-1.5,2)\n",
        "plt.show()"
      ],
      "metadata": {
        "colab": {
          "base_uri": "https://localhost:8080/",
          "height": 343
        },
        "id": "UfJedHLjDEyc",
        "outputId": "815385a3-8c58-483d-db9a-724b7cdd26d9"
      },
      "execution_count": null,
      "outputs": [
        {
          "output_type": "stream",
          "name": "stdout",
          "text": [
            "3888/3888 [==============================] - 3s 741us/step\n"
          ]
        },
        {
          "output_type": "stream",
          "name": "stderr",
          "text": [
            "/usr/local/lib/python3.8/dist-packages/mlxtend/plotting/decision_regions.py:244: MatplotlibDeprecationWarning: Passing unsupported keyword arguments to axis() will raise a TypeError in 3.3.\n",
            "  ax.axis(xmin=xx.min(), xmax=xx.max(), y_min=yy.min(), y_max=yy.max())\n"
          ]
        },
        {
          "output_type": "display_data",
          "data": {
            "text/plain": [
              "<Figure size 432x288 with 1 Axes>"
            ],
            "image/png": "[encoded data removed]"
          },
          "metadata": {
            "needs_background": "light"
          }
        }
      ]
    },
    {
      "cell_type": "code",
      "source": [
        "plt.plot(history1.history['loss'])\n",
        "plt.plot(history1.history['val_loss'])"
      ],
      "metadata": {
        "colab": {
          "base_uri": "https://localhost:8080/",
          "height": 283
        },
        "id": "40lIZPmeVPVw",
        "outputId": "7ce44817-cee4-422c-dc31-0f8b93a6a70c"
      },
      "execution_count": null,
      "outputs": [
        {
          "output_type": "execute_result",
          "data": {
            "text/plain": [
              "[<matplotlib.lines.Line2D at 0x7f8123431250>]"
            ]
          },
          "metadata": {},
          "execution_count": 8
        },
        {
          "output_type": "display_data",
          "data": {
            "text/plain": [
              "<Figure size 432x288 with 1 Axes>"
            ],
            "image/png": "[encoded data removed]"
          },
          "metadata": {
            "needs_background": "light"
          }
        }
      ]
    },
    {
      "cell_type": "markdown",
      "source": [
        " L2 Regularization "
      ],
      "metadata": {
        "id": "BOBjEBNtIKRd"
      }
    },
    {
      "cell_type": "code",
      "source": [
        "model2 = Sequential()\n",
        "\n",
        "model2.add(Dense(128,input_dim=2, activation=\"relu\",kernel_regularizer=tensorflow.keras.regularizers.l2(0.03)))\n",
        "model2.add(Dense(128, activation=\"relu\",kernel_regularizer=tensorflow.keras.regularizers.l2(0.03)))\n",
        "model2.add(Dense(1,activation='sigmoid'))\n",
        "\n",
        "model2.summary()"
      ],
      "metadata": {
        "colab": {
          "base_uri": "https://localhost:8080/"
        },
        "id": "k8ZnOrbIvinp",
        "outputId": "5c83871f-9623-4d58-cd73-c85726c24aef"
      },
      "execution_count": null,
      "outputs": [
        {
          "output_type": "stream",
          "name": "stdout",
          "text": [
            "Model: \"sequential_3\"\n",
            "_________________________________________________________________\n",
            " Layer (type)                Output Shape              Param #   \n",
            "=================================================================\n",
            " dense_5 (Dense)             (None, 128)               384       \n",
            "                                                                 \n",
            " dense_6 (Dense)             (None, 128)               16512     \n",
            "                                                                 \n",
            " dense_7 (Dense)             (None, 1)                 129       \n",
            "                                                                 \n",
            "=================================================================\n",
            "Total params: 17,025\n",
            "Trainable params: 17,025\n",
            "Non-trainable params: 0\n",
            "_________________________________________________________________\n"
          ]
        }
      ]
    },
    {
      "cell_type": "code",
      "source": [
        "adam = Adam(learning_rate=0.01)\n",
        "model2.compile(loss='binary_crossentropy', optimizer=adam, metrics=['accuracy'])\n",
        "\n",
        "history2 = model2.fit(X, y, epochs=2000, validation_split = 0.2,verbose=0)"
      ],
      "metadata": {
        "id": "HNjIkZe8whLV"
      },
      "execution_count": null,
      "outputs": []
    },
    {
      "cell_type": "code",
      "source": [
        "plot_decision_regions(X, y.astype('int'), clf=model2, legend=2)\n",
        "plt.xlim(-2,3)\n",
        "plt.ylim(-1.5,2)\n",
        "plt.show()"
      ],
      "metadata": {
        "colab": {
          "base_uri": "https://localhost:8080/",
          "height": 343
        },
        "id": "ioRq1E3awj42",
        "outputId": "27b167e6-ff08-4a65-e387-7471732e0d82"
      },
      "execution_count": null,
      "outputs": [
        {
          "output_type": "stream",
          "name": "stdout",
          "text": [
            "3888/3888 [==============================] - 3s 734us/step\n"
          ]
        },
        {
          "output_type": "stream",
          "name": "stderr",
          "text": [
            "/usr/local/lib/python3.8/dist-packages/mlxtend/plotting/decision_regions.py:244: MatplotlibDeprecationWarning: Passing unsupported keyword arguments to axis() will raise a TypeError in 3.3.\n",
            "  ax.axis(xmin=xx.min(), xmax=xx.max(), y_min=yy.min(), y_max=yy.max())\n"
          ]
        },
        {
          "output_type": "display_data",
          "data": {
            "text/plain": [
              "<Figure size 432x288 with 1 Axes>"
            ],
            "image/png": "[encoded data removed]"
          },
          "metadata": {
            "needs_background": "light"
          }
        }
      ]
    },
    {
      "cell_type": "code",
      "source": [
        "plt.plot(history2.history['loss'])\n",
        "plt.plot(history2.history['val_loss'])"
      ],
      "metadata": {
        "colab": {
          "base_uri": "https://localhost:8080/",
          "height": 283
        },
        "id": "njwsZuvWVyIT",
        "outputId": "ce638c3c-388f-41fe-ba12-8233f8676766"
      },
      "execution_count": null,
      "outputs": [
        {
          "output_type": "execute_result",
          "data": {
            "text/plain": [
              "[<matplotlib.lines.Line2D at 0x7f811f33ed30>]"
            ]
          },
          "metadata": {},
          "execution_count": 14
        },
        {
          "output_type": "display_data",
          "data": {
            "text/plain": [
              "<Figure size 432x288 with 1 Axes>"
            ],
            "image/png": "[encoded data removed]"
          },
          "metadata": {
            "needs_background": "light"
          }
        }
      ]
    },
    {
      "cell_type": "code",
      "source": [
        "model1_weight_layer1 = model1.get_weights()[0].reshape(256)\n",
        "model2_weight_layer1 = model2.get_weights()[0].reshape(256)"
      ],
      "metadata": {
        "id": "KyB5EBy8woTH"
      },
      "execution_count": null,
      "outputs": []
    },
    {
      "cell_type": "code",
      "source": [
        "sns.boxplot(model1_weight_layer1)"
      ],
      "metadata": {
        "colab": {
          "base_uri": "https://localhost:8080/",
          "height": 339
        },
        "id": "jPX6myb14t2s",
        "outputId": "d7c0f46e-6766-4abc-ca89-2e48af5e1371"
      },
      "execution_count": null,
      "outputs": [
        {
          "output_type": "stream",
          "name": "stderr",
          "text": [
            "/usr/local/lib/python3.8/dist-packages/seaborn/_decorators.py:36: FutureWarning: Pass the following variable as a keyword arg: x. From version 0.12, the only valid positional argument will be `data`, and passing other arguments without an explicit keyword will result in an error or misinterpretation.\n",
            "  warnings.warn(\n"
          ]
        },
        {
          "output_type": "execute_result",
          "data": {
            "text/plain": [
              "<matplotlib.axes._subplots.AxesSubplot at 0x7f811f4428e0>"
            ]
          },
          "metadata": {},
          "execution_count": 16
        },
        {
          "output_type": "display_data",
          "data": {
            "text/plain": [
              "<Figure size 432x288 with 1 Axes>"
            ],
            "image/png": "[encoded data removed]"
          },
          "metadata": {
            "needs_background": "light"
          }
        }
      ]
    },
    {
      "cell_type": "code",
      "source": [
        "sns.boxplot(model2_weight_layer1)"
      ],
      "metadata": {
        "colab": {
          "base_uri": "https://localhost:8080/",
          "height": 339
        },
        "id": "vxusTpdV6icl",
        "outputId": "25e108a8-d586-460a-c22b-2d2a740aad21"
      },
      "execution_count": null,
      "outputs": [
        {
          "output_type": "stream",
          "name": "stderr",
          "text": [
            "/usr/local/lib/python3.8/dist-packages/seaborn/_decorators.py:36: FutureWarning: Pass the following variable as a keyword arg: x. From version 0.12, the only valid positional argument will be `data`, and passing other arguments without an explicit keyword will result in an error or misinterpretation.\n",
            "  warnings.warn(\n"
          ]
        },
        {
          "output_type": "execute_result",
          "data": {
            "text/plain": [
              "<matplotlib.axes._subplots.AxesSubplot at 0x7f811ed42f70>"
            ]
          },
          "metadata": {},
          "execution_count": 17
        },
        {
          "output_type": "display_data",
          "data": {
            "text/plain": [
              "<Figure size 432x288 with 1 Axes>"
            ],
            "image/png": "[encoded data removed]"
          },
          "metadata": {
            "needs_background": "light"
          }
        }
      ]
    },
    {
      "cell_type": "code",
      "source": [
        "model1_weight_layer1.min()"
      ],
      "metadata": {
        "colab": {
          "base_uri": "https://localhost:8080/"
        },
        "id": "X53hfLJV7bVq",
        "outputId": "3a649b42-2e88-4713-af31-6d3e265909c6"
      },
      "execution_count": null,
      "outputs": [
        {
          "output_type": "execute_result",
          "data": {
            "text/plain": [
              "-2.407637"
            ]
          },
          "metadata": {},
          "execution_count": 18
        }
      ]
    },
    {
      "cell_type": "code",
      "source": [
        "model2_weight_layer1.min()"
      ],
      "metadata": {
        "colab": {
          "base_uri": "https://localhost:8080/"
        },
        "id": "PGrQUvX57erb",
        "outputId": "9aacb92b-653d-470c-9f1a-ac11c8079d07"
      },
      "execution_count": null,
      "outputs": [
        {
          "output_type": "execute_result",
          "data": {
            "text/plain": [
              "-0.66891694"
            ]
          },
          "metadata": {},
          "execution_count": 19
        }
      ]
    },
    {
      "cell_type": "code",
      "source": [
        "sns.distplot(model1_weight_layer1)\n",
        "sns.distplot(model2_weight_layer1)"
      ],
      "metadata": {
        "colab": {
          "base_uri": "https://localhost:8080/",
          "height": 374
        },
        "id": "xwXhLZecZKHt",
        "outputId": "e1bb62e3-f57f-4771-d2ff-69afd98aec0e"
      },
      "execution_count": null,
      "outputs": [
        {
          "output_type": "stream",
          "name": "stderr",
          "text": [
            "/usr/local/lib/python3.8/dist-packages/seaborn/distributions.py:2619: FutureWarning: `distplot` is a deprecated function and will be removed in a future version. Please adapt your code to use either `displot` (a figure-level function with similar flexibility) or `histplot` (an axes-level function for histograms).\n",
            "  warnings.warn(msg, FutureWarning)\n",
            "/usr/local/lib/python3.8/dist-packages/seaborn/distributions.py:2619: FutureWarning: `distplot` is a deprecated function and will be removed in a future version. Please adapt your code to use either `displot` (a figure-level function with similar flexibility) or `histplot` (an axes-level function for histograms).\n",
            "  warnings.warn(msg, FutureWarning)\n"
          ]
        },
        {
          "output_type": "execute_result",
          "data": {
            "text/plain": [
              "<matplotlib.axes._subplots.AxesSubplot at 0x7f81231d4670>"
            ]
          },
          "metadata": {},
          "execution_count": 20
        },
        {
          "output_type": "display_data",
          "data": {
            "text/plain": [
              "<Figure size 432x288 with 1 Axes>"
            ],
            "image/png": "[encoded data removed]"
          },
          "metadata": {
            "needs_background": "light"
          }
        }
      ]
    },
    {
      "cell_type": "code",
      "source": [
        "model1.get_weights()[0].reshape(256)"
      ],
      "metadata": {
        "colab": {
          "base_uri": "https://localhost:8080/"
        },
        "id": "soM0qyWFZPdq",
        "outputId": "70133c8e-ffc8-4918-8949-daac2d4d7f56"
      },
      "execution_count": null,
      "outputs": [
        {
          "output_type": "execute_result",
          "data": {
            "text/plain": [
              "array([ 3.30259413e-01, -3.20982546e-01, -1.25517705e-02,  3.07994962e-01,\n",
              "       -1.36421442e-01,  2.86132097e-01, -4.58560228e-01, -2.92991906e-01,\n",
              "        8.97040367e-02,  1.43582672e-01,  4.26293552e-01, -1.10127032e-01,\n",
              "        1.38208464e-01, -3.71876806e-01, -5.51259637e-01, -4.72604245e-01,\n",
              "       -5.76084614e-01, -3.41339678e-01, -4.35793668e-01,  2.81332463e-01,\n",
              "        2.74115413e-01,  1.47951245e-01, -5.65330982e-01,  3.06583583e-01,\n",
              "       -4.85315919e-01, -3.99770796e-01,  3.29891741e-01,  6.42607734e-02,\n",
              "        4.80641723e-02,  5.12928814e-02, -4.91993688e-02, -1.23323888e-01,\n",
              "        1.02939278e-01, -3.46416354e-01, -5.81117272e-01,  2.63664693e-01,\n",
              "        8.75561684e-02, -3.57784778e-01, -2.95508027e-01,  3.30189168e-01,\n",
              "       -3.96702915e-01, -8.66808817e-02, -5.04645228e-01, -2.25515381e-01,\n",
              "       -2.98737228e-01,  1.10906521e-02, -5.52883267e-01, -3.57945174e-01,\n",
              "        2.23626435e-01,  2.66308397e-01,  2.22462952e-01, -4.69967335e-01,\n",
              "        8.49764571e-02, -3.27270448e-01,  4.01101321e-01,  4.15421790e-03,\n",
              "        2.01218247e-01,  7.29056671e-02,  2.81171948e-01,  2.51103133e-01,\n",
              "        8.01828131e-02,  1.22596817e-02,  1.25338584e-01, -3.63619030e-01,\n",
              "       -2.18713596e-01, -4.28833991e-01, -4.57474798e-01,  2.61410356e-01,\n",
              "       -4.32836980e-01, -4.42680776e-01, -2.22805098e-01, -5.71468055e-01,\n",
              "       -3.82889211e-02, -2.35046461e-01, -4.77356046e-01, -4.91943330e-01,\n",
              "       -5.06931841e-01, -5.37760973e-01,  2.67546922e-01, -3.86533946e-01,\n",
              "       -3.82239103e-01,  7.78656676e-02,  1.82604909e-01,  2.13483691e-01,\n",
              "        4.54799905e-02,  2.43296161e-01, -5.14308512e-01, -6.69729114e-02,\n",
              "       -1.17289759e-02,  2.57134914e-01, -1.93367556e-01,  2.99554020e-01,\n",
              "        2.30357364e-01, -9.35875904e-03, -4.48162735e-01, -4.57610488e-01,\n",
              "        1.00351810e-01,  7.27191120e-02, -4.08016384e-01, -2.54289389e-01,\n",
              "       -3.48666459e-02, -3.01913232e-01,  7.65470862e-02, -4.32260744e-02,\n",
              "        1.29450355e-02, -3.78014654e-01,  2.06791148e-01, -3.73438567e-01,\n",
              "        8.23038593e-02, -3.52501184e-01, -3.73905867e-01, -2.51753982e-02,\n",
              "       -7.44857937e-02,  2.62043387e-01,  1.71090305e-01,  2.58861929e-02,\n",
              "       -4.12539661e-01, -3.24075609e-01, -3.06092232e-01,  1.84226751e-01,\n",
              "       -1.79898867e-03,  9.55310091e-02, -3.26313972e-01, -5.26699191e-03,\n",
              "       -1.29567906e-01, -3.54953498e-01,  2.20598191e-01, -4.73488986e-01,\n",
              "       -2.14339197e-01, -6.20301247e-01, -8.17799419e-02,  2.47685879e-01,\n",
              "        1.62297919e-01,  1.89561531e-01,  1.78172678e-01, -3.72439533e-01,\n",
              "        8.42106640e-01,  3.07540178e-01,  2.53618330e-01, -2.40763688e+00,\n",
              "        1.79148465e-01, -4.82338130e-01, -1.17597565e-01,  6.29155859e-02,\n",
              "       -1.01820454e-02,  3.47260803e-01, -1.04199231e-01,  1.35047540e-01,\n",
              "       -1.62626803e-01,  6.44434765e-02,  6.47008419e-02, -2.33061314e-01,\n",
              "       -1.24667570e-01,  1.79430678e-01, -3.02508652e-01,  1.81613285e-02,\n",
              "       -1.37750804e-01, -1.46816820e-01, -1.99645132e-01,  1.49566874e-01,\n",
              "       -1.29853323e-01,  3.36270541e-01,  6.82513118e-02, -2.71083772e-01,\n",
              "        3.16686183e-02,  3.55138510e-01,  2.28518635e-01, -3.13003927e-01,\n",
              "       -4.66289043e-01,  7.48564526e-02,  1.82263795e-02, -6.52342796e-01,\n",
              "        2.21782818e-01,  4.16876346e-01, -1.58311605e-01,  3.13828707e-01,\n",
              "       -9.77131724e-02, -1.53162524e-01, -9.71439779e-02, -4.43441095e-03,\n",
              "       -1.80232048e-01, -9.82973993e-01,  7.69716740e-01, -1.39985073e+00,\n",
              "        1.36894178e+00, -1.49273396e+00, -1.63832247e-01,  2.82583922e-01,\n",
              "        1.77623592e-02,  4.13146347e-01,  4.81393300e-02,  1.66455612e-01,\n",
              "        2.47479379e-01, -5.58676064e-01,  8.13386068e-02, -1.66961446e-01,\n",
              "        4.99982871e-02,  5.23105711e-02, -6.73517168e-01,  5.78277484e-02,\n",
              "       -1.22285308e-02,  1.56691670e-01, -1.24236732e-03,  2.60980651e-02,\n",
              "        8.38669166e-02, -1.21055923e-01,  1.85245901e-01, -4.28561270e-01,\n",
              "        2.29086339e-01, -1.71329424e-01,  2.20370173e-01, -9.30202082e-02,\n",
              "       -5.10191638e-03, -1.87715858e-01, -3.99105810e-03,  9.04923603e-02,\n",
              "       -7.55718723e-02,  8.07663277e-02,  2.28933498e-01, -2.63191313e-01,\n",
              "       -1.00597478e-01, -1.63248554e-03, -4.11410809e-01, -6.87070843e-03,\n",
              "       -1.36449695e+00, -1.10787511e-01,  3.08764786e-01, -2.11351609e+00,\n",
              "        2.66052615e-02,  2.25109562e-01,  3.61326188e-01, -5.61478250e-02,\n",
              "       -1.56379372e-01,  1.66564509e-01,  1.11729771e-01, -1.14961170e-01,\n",
              "        1.66536029e-02,  2.77667969e-01,  2.93501675e-01, -2.56771266e-01,\n",
              "        1.14321047e-02, -1.14379063e-01,  1.62053660e-01, -5.35197407e-02,\n",
              "       -4.76774722e-01,  3.48807842e-01,  3.47099364e-01, -4.98957902e-01,\n",
              "        2.55831387e-02,  1.30492404e-01,  3.06909144e-01, -4.04071301e-01,\n",
              "        1.59744292e-01, -4.18247551e-01, -9.62024406e-02, -5.72220802e-01],\n",
              "      dtype=float32)"
            ]
          },
          "metadata": {},
          "execution_count": 21
        }
      ]
    },
    {
      "cell_type": "markdown",
      "source": [
        "L1 Regularization :"
      ],
      "metadata": {
        "id": "Ou3Vga2GIPX5"
      }
    },
    {
      "cell_type": "code",
      "source": [
        "model3 = Sequential()\n",
        "\n",
        "model3.add(Dense(128,input_dim=2, activation=\"relu\",kernel_regularizer=tensorflow.keras.regularizers.l1(0.001)))\n",
        "model3.add(Dense(128, activation=\"relu\",kernel_regularizer=tensorflow.keras.regularizers.l2(0.001)))\n",
        "model3.add(Dense(1,activation='sigmoid'))\n",
        "\n",
        "model3.summary()"
      ],
      "metadata": {
        "id": "-9V7hE0RbIZt",
        "outputId": "15afc7a2-08e0-4f6c-a2c8-a55ac67e64a2",
        "colab": {
          "base_uri": "https://localhost:8080/"
        }
      },
      "execution_count": null,
      "outputs": [
        {
          "output_type": "stream",
          "name": "stdout",
          "text": [
            "Model: \"sequential_7\"\n",
            "_________________________________________________________________\n",
            " Layer (type)                Output Shape              Param #   \n",
            "=================================================================\n",
            " dense_17 (Dense)            (None, 128)               384       \n",
            "                                                                 \n",
            " dense_18 (Dense)            (None, 128)               16512     \n",
            "                                                                 \n",
            " dense_19 (Dense)            (None, 1)                 129       \n",
            "                                                                 \n",
            "=================================================================\n",
            "Total params: 17,025\n",
            "Trainable params: 17,025\n",
            "Non-trainable params: 0\n",
            "_________________________________________________________________\n"
          ]
        }
      ]
    },
    {
      "cell_type": "code",
      "source": [
        "adam = Adam(learning_rate=0.01)\n",
        "model3.compile(loss='binary_crossentropy', optimizer=adam, metrics=['accuracy'])\n",
        "\n",
        "history3 = model3.fit(X, y, epochs=2000, validation_split = 0.2,verbose=0)"
      ],
      "metadata": {
        "id": "I2TDD9jCIW_z"
      },
      "execution_count": null,
      "outputs": []
    },
    {
      "cell_type": "code",
      "source": [
        "plot_decision_regions(X, y.astype('int'), clf=model3, legend=2)\n",
        "plt.xlim(-2,3)\n",
        "plt.ylim(-1.5,2)\n",
        "plt.show()"
      ],
      "metadata": {
        "id": "yHHAAMDMIjEo",
        "outputId": "a166a103-49a3-4b22-c170-64d439ace6ee",
        "colab": {
          "base_uri": "https://localhost:8080/",
          "height": 343
        }
      },
      "execution_count": null,
      "outputs": [
        {
          "output_type": "stream",
          "name": "stdout",
          "text": [
            "3888/3888 [==============================] - 4s 934us/step\n"
          ]
        },
        {
          "output_type": "stream",
          "name": "stderr",
          "text": [
            "/usr/local/lib/python3.8/dist-packages/mlxtend/plotting/decision_regions.py:244: MatplotlibDeprecationWarning: Passing unsupported keyword arguments to axis() will raise a TypeError in 3.3.\n",
            "  ax.axis(xmin=xx.min(), xmax=xx.max(), y_min=yy.min(), y_max=yy.max())\n"
          ]
        },
        {
          "output_type": "display_data",
          "data": {
            "text/plain": [
              "<Figure size 432x288 with 1 Axes>"
            ],
            "image/png": "[encoded data removed]"
          },
          "metadata": {
            "needs_background": "light"
          }
        }
      ]
    },
    {
      "cell_type": "code",
      "source": [
        "plt.plot(history3.history['loss'])\n",
        "plt.plot(history3.history['val_loss'])"
      ],
      "metadata": {
        "id": "wwSWP09UIpew",
        "outputId": "dbed5b9b-9675-4f91-9064-fd898c7cd44f",
        "colab": {
          "base_uri": "https://localhost:8080/",
          "height": 285
        }
      },
      "execution_count": null,
      "outputs": [
        {
          "output_type": "execute_result",
          "data": {
            "text/plain": [
              "[<matplotlib.lines.Line2D at 0x7f811748feb0>]"
            ]
          },
          "metadata": {},
          "execution_count": 31
        },
        {
          "output_type": "display_data",
          "data": {
            "text/plain": [
              "<Figure size 432x288 with 1 Axes>"
            ],
            "image/png": "[encoded data removed]"
          },
          "metadata": {
            "needs_background": "light"
          }
        }
      ]
    },
    {
      "cell_type": "code",
      "source": [
        "model1_weight_layer1 = model1.get_weights()[0].reshape(256)\n",
        "model3_weight_layer1 = model3.get_weights()[0].reshape(256)"
      ],
      "metadata": {
        "id": "b4mdD5J_IwRR"
      },
      "execution_count": null,
      "outputs": []
    },
    {
      "cell_type": "code",
      "source": [
        "sns.boxplot(model1_weight_layer1)"
      ],
      "metadata": {
        "id": "NpSHqf69JVcl",
        "outputId": "7be40db1-4807-4750-a3d6-29a97b78f005",
        "colab": {
          "base_uri": "https://localhost:8080/",
          "height": 339
        }
      },
      "execution_count": null,
      "outputs": [
        {
          "output_type": "stream",
          "name": "stderr",
          "text": [
            "/usr/local/lib/python3.8/dist-packages/seaborn/_decorators.py:36: FutureWarning: Pass the following variable as a keyword arg: x. From version 0.12, the only valid positional argument will be `data`, and passing other arguments without an explicit keyword will result in an error or misinterpretation.\n",
            "  warnings.warn(\n"
          ]
        },
        {
          "output_type": "execute_result",
          "data": {
            "text/plain": [
              "<matplotlib.axes._subplots.AxesSubplot at 0x7f811f13fc40>"
            ]
          },
          "metadata": {},
          "execution_count": 33
        },
        {
          "output_type": "display_data",
          "data": {
            "text/plain": [
              "<Figure size 432x288 with 1 Axes>"
            ],
            "image/png": "[encoded data removed]"
          },
          "metadata": {
            "needs_background": "light"
          }
        }
      ]
    },
    {
      "cell_type": "code",
      "source": [
        "sns.boxplot(model3_weight_layer1)"
      ],
      "metadata": {
        "id": "nN5hvIP_Jk0A",
        "outputId": "30fb69c6-71e9-4866-b839-cf67e532e673",
        "colab": {
          "base_uri": "https://localhost:8080/",
          "height": 339
        }
      },
      "execution_count": null,
      "outputs": [
        {
          "output_type": "stream",
          "name": "stderr",
          "text": [
            "/usr/local/lib/python3.8/dist-packages/seaborn/_decorators.py:36: FutureWarning: Pass the following variable as a keyword arg: x. From version 0.12, the only valid positional argument will be `data`, and passing other arguments without an explicit keyword will result in an error or misinterpretation.\n",
            "  warnings.warn(\n"
          ]
        },
        {
          "output_type": "execute_result",
          "data": {
            "text/plain": [
              "<matplotlib.axes._subplots.AxesSubplot at 0x7f811f12bcd0>"
            ]
          },
          "metadata": {},
          "execution_count": 34
        },
        {
          "output_type": "display_data",
          "data": {
            "text/plain": [
              "<Figure size 432x288 with 1 Axes>"
            ],
            "image/png": "[encoded data removed]"
          },
          "metadata": {
            "needs_background": "light"
          }
        }
      ]
    },
    {
      "cell_type": "code",
      "source": [
        "sns.distplot(model1_weight_layer1)\n",
        "sns.distplot(model3_weight_layer1)"
      ],
      "metadata": {
        "id": "lp8DBbBqJpUO",
        "outputId": "67ea0719-6c00-43f7-fb8a-7ef997b90938",
        "colab": {
          "base_uri": "https://localhost:8080/",
          "height": 374
        }
      },
      "execution_count": null,
      "outputs": [
        {
          "output_type": "stream",
          "name": "stderr",
          "text": [
            "/usr/local/lib/python3.8/dist-packages/seaborn/distributions.py:2619: FutureWarning: `distplot` is a deprecated function and will be removed in a future version. Please adapt your code to use either `displot` (a figure-level function with similar flexibility) or `histplot` (an axes-level function for histograms).\n",
            "  warnings.warn(msg, FutureWarning)\n",
            "/usr/local/lib/python3.8/dist-packages/seaborn/distributions.py:2619: FutureWarning: `distplot` is a deprecated function and will be removed in a future version. Please adapt your code to use either `displot` (a figure-level function with similar flexibility) or `histplot` (an axes-level function for histograms).\n",
            "  warnings.warn(msg, FutureWarning)\n"
          ]
        },
        {
          "output_type": "execute_result",
          "data": {
            "text/plain": [
              "<matplotlib.axes._subplots.AxesSubplot at 0x7f811eddbca0>"
            ]
          },
          "metadata": {},
          "execution_count": 35
        },
        {
          "output_type": "display_data",
          "data": {
            "text/plain": [
              "<Figure size 432x288 with 1 Axes>"
            ],
            "image/png": "[encoded data removed]"
          },
          "metadata": {
            "needs_background": "light"
          }
        }
      ]
    },
    {
      "cell_type": "code",
      "source": [],
      "metadata": {
        "id": "HhRREM5FJwEX"
      },
      "execution_count": null,
      "outputs": []
    }
  ]
}