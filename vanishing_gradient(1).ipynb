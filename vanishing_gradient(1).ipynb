{
  "nbformat": 4,
  "nbformat_minor": 0,
  "metadata": {
    "colab": {
      "provenance": []
    },
    "kernelspec": {
      "name": "python3",
      "display_name": "Python 3"
    },
    "language_info": {
      "name": "python"
    }
  },
  "cells": [
    {
      "cell_type": "markdown",
      "source": [
        "The Vanishing Gradient Problem :\n",
        "\n",
        "The problem:\n",
        "As more layers using certain activation functions are added to       neural networks, the gradients of the loss function approaches zero, making the network hard to train.\n",
        "\n",
        "Why:\n",
        "Certain activation functions, like the sigmoid function, squishes a large input space into a small input space between 0 and 1. Therefore, a large change in the input of the sigmoid function will cause a small change in the output. Hence, the derivative becomes small.\n",
        "\n",
        "Solutions:\n",
        "\n",
        "The simplest solution is to use other activation functions, such as ReLU, which doesn’t cause a small derivative."
      ],
      "metadata": {
        "id": "CV6RVoHeNT0k"
      }
    },
    {
      "cell_type": "code",
      "source": [
        "import matplotlib.pyplot as plt\n",
        "import numpy as np\n",
        "import pandas as pd\n",
        "import tensorflow as tf\n",
        "import keras\n",
        "from sklearn.datasets import make_moons\n",
        "from sklearn.model_selection import train_test_split\n",
        "from keras.layers import Dense\n",
        "from keras.models import Sequential"
      ],
      "metadata": {
        "id": "hGW5IOPzNRQ-"
      },
      "execution_count": 29,
      "outputs": []
    },
    {
      "cell_type": "code",
      "source": [
        "X,y = make_moons(n_samples=250, noise=0.05, random_state=42)"
      ],
      "metadata": {
        "id": "VNiEr_mpSkTO"
      },
      "execution_count": 2,
      "outputs": []
    },
    {
      "cell_type": "code",
      "source": [
        "plt.scatter(X[:,0],X[:,1], c=y, s=100)\n",
        "plt.show()"
      ],
      "metadata": {
        "colab": {
          "base_uri": "https://localhost:8080/",
          "height": 265
        },
        "id": "UVpq7UCcTTA6",
        "outputId": "6124c211-fe89-493b-d0cc-b55948ff88a0"
      },
      "execution_count": 3,
      "outputs": [
        {
          "output_type": "display_data",
          "data": {
            "text/plain": [
              "<Figure size 432x288 with 1 Axes>"
            ],
            "image/png": "[encoded data removed]"
          },
          "metadata": {
            "needs_background": "light"
          }
        }
      ]
    },
    {
      "cell_type": "code",
      "source": [
        "model = Sequential()\n",
        "\n",
        "model.add(Dense(10,activation='sigmoid',input_dim=2))\n",
        "model.add(Dense(10,activation='sigmoid'))\n",
        "model.add(Dense(10,activation='sigmoid'))\n",
        "model.add(Dense(1, activation='sigmoid'))"
      ],
      "metadata": {
        "id": "tzfO3jquTVyY"
      },
      "execution_count": 4,
      "outputs": []
    },
    {
      "cell_type": "code",
      "source": [
        "model.compile(loss='binary_crossentropy',optimizer='adam',metrics=['accuracy'])"
      ],
      "metadata": {
        "id": "bzYYyQhhUAbJ"
      },
      "execution_count": 5,
      "outputs": []
    },
    {
      "cell_type": "code",
      "source": [
        "model.get_weights()[0]"
      ],
      "metadata": {
        "colab": {
          "base_uri": "https://localhost:8080/"
        },
        "id": "CI5zBIvv3x5e",
        "outputId": "97b0e37e-1c56-4126-855a-203dc999e851"
      },
      "execution_count": 6,
      "outputs": [
        {
          "output_type": "execute_result",
          "data": {
            "text/plain": [
              "array([[ 0.18404245,  0.2700578 , -0.1796683 ,  0.4289047 , -0.49278128,\n",
              "        -0.16220212, -0.5465988 ,  0.25976235,  0.09992492,  0.28631818],\n",
              "       [-0.49214402,  0.52247757,  0.10643345,  0.4220243 ,  0.01249403,\n",
              "        -0.41913083,  0.400917  , -0.03765839,  0.11924303,  0.10320246]],\n",
              "      dtype=float32)"
            ]
          },
          "metadata": {},
          "execution_count": 6
        }
      ]
    },
    {
      "cell_type": "code",
      "source": [
        "old_weights = model.get_weights()[0]"
      ],
      "metadata": {
        "id": "_0MskkInUhLT"
      },
      "execution_count": 7,
      "outputs": []
    },
    {
      "cell_type": "code",
      "source": [
        "X_train, X_test, y_train, y_test = train_test_split(X, y, test_size=0.20, random_state=42)"
      ],
      "metadata": {
        "id": "TaYrBqJvVePG"
      },
      "execution_count": 8,
      "outputs": []
    },
    {
      "cell_type": "code",
      "source": [
        "model.fit(X_train, y_train, epochs = 100)"
      ],
      "metadata": {
        "colab": {
          "base_uri": "https://localhost:8080/"
        },
        "id": "ouf7UIKiV7hr",
        "outputId": "9769b797-48f5-41cc-ee65-a4a17bdfb9ab"
      },
      "execution_count": 9,
      "outputs": [
        {
          "output_type": "stream",
          "name": "stdout",
          "text": [
            "Epoch 1/100\n",
            "7/7 [==============================] - 1s 4ms/step - loss: 0.7124 - accuracy: 0.5100\n",
            "Epoch 2/100\n",
            "7/7 [==============================] - 0s 5ms/step - loss: 0.7048 - accuracy: 0.5100\n",
            "Epoch 3/100\n",
            "7/7 [==============================] - 0s 4ms/step - loss: 0.7003 - accuracy: 0.5100\n",
            "Epoch 4/100\n",
            "7/7 [==============================] - 0s 4ms/step - loss: 0.6963 - accuracy: 0.5100\n",
            "Epoch 5/100\n",
            "7/7 [==============================] - 0s 4ms/step - loss: 0.6934 - accuracy: 0.5100\n",
            "Epoch 6/100\n",
            "7/7 [==============================] - 0s 4ms/step - loss: 0.6914 - accuracy: 0.5100\n",
            "Epoch 7/100\n",
            "7/7 [==============================] - 0s 3ms/step - loss: 0.6911 - accuracy: 0.5100\n",
            "Epoch 8/100\n",
            "7/7 [==============================] - 0s 4ms/step - loss: 0.6904 - accuracy: 0.5100\n",
            "Epoch 9/100\n",
            "7/7 [==============================] - 0s 4ms/step - loss: 0.6902 - accuracy: 0.5100\n",
            "Epoch 10/100\n",
            "7/7 [==============================] - 0s 3ms/step - loss: 0.6896 - accuracy: 0.5100\n",
            "Epoch 11/100\n",
            "7/7 [==============================] - 0s 4ms/step - loss: 0.6893 - accuracy: 0.5150\n",
            "Epoch 12/100\n",
            "7/7 [==============================] - 0s 6ms/step - loss: 0.6889 - accuracy: 0.6750\n",
            "Epoch 13/100\n",
            "7/7 [==============================] - 0s 16ms/step - loss: 0.6884 - accuracy: 0.7100\n",
            "Epoch 14/100\n",
            "7/7 [==============================] - 0s 8ms/step - loss: 0.6882 - accuracy: 0.7100\n",
            "Epoch 15/100\n",
            "7/7 [==============================] - 0s 23ms/step - loss: 0.6877 - accuracy: 0.7300\n",
            "Epoch 16/100\n",
            "7/7 [==============================] - 0s 16ms/step - loss: 0.6874 - accuracy: 0.7150\n",
            "Epoch 17/100\n",
            "7/7 [==============================] - 0s 12ms/step - loss: 0.6869 - accuracy: 0.7000\n",
            "Epoch 18/100\n",
            "7/7 [==============================] - 0s 15ms/step - loss: 0.6864 - accuracy: 0.7200\n",
            "Epoch 19/100\n",
            "7/7 [==============================] - 0s 7ms/step - loss: 0.6863 - accuracy: 0.7250\n",
            "Epoch 20/100\n",
            "7/7 [==============================] - 0s 8ms/step - loss: 0.6850 - accuracy: 0.7300\n",
            "Epoch 21/100\n",
            "7/7 [==============================] - 0s 8ms/step - loss: 0.6844 - accuracy: 0.7350\n",
            "Epoch 22/100\n",
            "7/7 [==============================] - 0s 36ms/step - loss: 0.6837 - accuracy: 0.7500\n",
            "Epoch 23/100\n",
            "7/7 [==============================] - 0s 11ms/step - loss: 0.6828 - accuracy: 0.7450\n",
            "Epoch 24/100\n",
            "7/7 [==============================] - 0s 15ms/step - loss: 0.6821 - accuracy: 0.7400\n",
            "Epoch 25/100\n",
            "7/7 [==============================] - 0s 12ms/step - loss: 0.6815 - accuracy: 0.6750\n",
            "Epoch 26/100\n",
            "7/7 [==============================] - 0s 14ms/step - loss: 0.6806 - accuracy: 0.5500\n",
            "Epoch 27/100\n",
            "7/7 [==============================] - 0s 14ms/step - loss: 0.6800 - accuracy: 0.6750\n",
            "Epoch 28/100\n",
            "7/7 [==============================] - 0s 8ms/step - loss: 0.6790 - accuracy: 0.7300\n",
            "Epoch 29/100\n",
            "7/7 [==============================] - 0s 15ms/step - loss: 0.6780 - accuracy: 0.7400\n",
            "Epoch 30/100\n",
            "7/7 [==============================] - 0s 6ms/step - loss: 0.6769 - accuracy: 0.7600\n",
            "Epoch 31/100\n",
            "7/7 [==============================] - 0s 8ms/step - loss: 0.6759 - accuracy: 0.7600\n",
            "Epoch 32/100\n",
            "7/7 [==============================] - 0s 32ms/step - loss: 0.6747 - accuracy: 0.7700\n",
            "Epoch 33/100\n",
            "7/7 [==============================] - 0s 17ms/step - loss: 0.6738 - accuracy: 0.7750\n",
            "Epoch 34/100\n",
            "7/7 [==============================] - 0s 4ms/step - loss: 0.6725 - accuracy: 0.7800\n",
            "Epoch 35/100\n",
            "7/7 [==============================] - 0s 4ms/step - loss: 0.6709 - accuracy: 0.7900\n",
            "Epoch 36/100\n",
            "7/7 [==============================] - 0s 8ms/step - loss: 0.6696 - accuracy: 0.7750\n",
            "Epoch 37/100\n",
            "7/7 [==============================] - 0s 6ms/step - loss: 0.6681 - accuracy: 0.7700\n",
            "Epoch 38/100\n",
            "7/7 [==============================] - 0s 7ms/step - loss: 0.6665 - accuracy: 0.7700\n",
            "Epoch 39/100\n",
            "7/7 [==============================] - 0s 18ms/step - loss: 0.6647 - accuracy: 0.7650\n",
            "Epoch 40/100\n",
            "7/7 [==============================] - 0s 6ms/step - loss: 0.6631 - accuracy: 0.7700\n",
            "Epoch 41/100\n",
            "7/7 [==============================] - 0s 15ms/step - loss: 0.6612 - accuracy: 0.7700\n",
            "Epoch 42/100\n",
            "7/7 [==============================] - 0s 28ms/step - loss: 0.6593 - accuracy: 0.7750\n",
            "Epoch 43/100\n",
            "7/7 [==============================] - 0s 12ms/step - loss: 0.6573 - accuracy: 0.7700\n",
            "Epoch 44/100\n",
            "7/7 [==============================] - 0s 12ms/step - loss: 0.6553 - accuracy: 0.7800\n",
            "Epoch 45/100\n",
            "7/7 [==============================] - 0s 12ms/step - loss: 0.6531 - accuracy: 0.7700\n",
            "Epoch 46/100\n",
            "7/7 [==============================] - 0s 6ms/step - loss: 0.6505 - accuracy: 0.7700\n",
            "Epoch 47/100\n",
            "7/7 [==============================] - 0s 21ms/step - loss: 0.6480 - accuracy: 0.7750\n",
            "Epoch 48/100\n",
            "7/7 [==============================] - 0s 13ms/step - loss: 0.6454 - accuracy: 0.7700\n",
            "Epoch 49/100\n",
            "7/7 [==============================] - 0s 16ms/step - loss: 0.6425 - accuracy: 0.7700\n",
            "Epoch 50/100\n",
            "7/7 [==============================] - 0s 18ms/step - loss: 0.6401 - accuracy: 0.7850\n",
            "Epoch 51/100\n",
            "7/7 [==============================] - 0s 12ms/step - loss: 0.6370 - accuracy: 0.7700\n",
            "Epoch 52/100\n",
            "7/7 [==============================] - 0s 5ms/step - loss: 0.6341 - accuracy: 0.7700\n",
            "Epoch 53/100\n",
            "7/7 [==============================] - 0s 5ms/step - loss: 0.6309 - accuracy: 0.7800\n",
            "Epoch 54/100\n",
            "7/7 [==============================] - 0s 10ms/step - loss: 0.6277 - accuracy: 0.7850\n",
            "Epoch 55/100\n",
            "7/7 [==============================] - 0s 8ms/step - loss: 0.6243 - accuracy: 0.7850\n",
            "Epoch 56/100\n",
            "7/7 [==============================] - 0s 5ms/step - loss: 0.6204 - accuracy: 0.7900\n",
            "Epoch 57/100\n",
            "7/7 [==============================] - 0s 10ms/step - loss: 0.6167 - accuracy: 0.7900\n",
            "Epoch 58/100\n",
            "7/7 [==============================] - 0s 13ms/step - loss: 0.6127 - accuracy: 0.7900\n",
            "Epoch 59/100\n",
            "7/7 [==============================] - 0s 6ms/step - loss: 0.6085 - accuracy: 0.7900\n",
            "Epoch 60/100\n",
            "7/7 [==============================] - 0s 14ms/step - loss: 0.6042 - accuracy: 0.7900\n",
            "Epoch 61/100\n",
            "7/7 [==============================] - 0s 26ms/step - loss: 0.5997 - accuracy: 0.7850\n",
            "Epoch 62/100\n",
            "7/7 [==============================] - 0s 13ms/step - loss: 0.5951 - accuracy: 0.7850\n",
            "Epoch 63/100\n",
            "7/7 [==============================] - 0s 13ms/step - loss: 0.5904 - accuracy: 0.7850\n",
            "Epoch 64/100\n",
            "7/7 [==============================] - 0s 15ms/step - loss: 0.5856 - accuracy: 0.7850\n",
            "Epoch 65/100\n",
            "7/7 [==============================] - 0s 12ms/step - loss: 0.5808 - accuracy: 0.7900\n",
            "Epoch 66/100\n",
            "7/7 [==============================] - 0s 8ms/step - loss: 0.5755 - accuracy: 0.7900\n",
            "Epoch 67/100\n",
            "7/7 [==============================] - 0s 6ms/step - loss: 0.5704 - accuracy: 0.8000\n",
            "Epoch 68/100\n",
            "7/7 [==============================] - 0s 8ms/step - loss: 0.5647 - accuracy: 0.8000\n",
            "Epoch 69/100\n",
            "7/7 [==============================] - 0s 11ms/step - loss: 0.5592 - accuracy: 0.7900\n",
            "Epoch 70/100\n",
            "7/7 [==============================] - 0s 10ms/step - loss: 0.5541 - accuracy: 0.7900\n",
            "Epoch 71/100\n",
            "7/7 [==============================] - 0s 16ms/step - loss: 0.5485 - accuracy: 0.7900\n",
            "Epoch 72/100\n",
            "7/7 [==============================] - 0s 12ms/step - loss: 0.5429 - accuracy: 0.7900\n",
            "Epoch 73/100\n",
            "7/7 [==============================] - 0s 13ms/step - loss: 0.5372 - accuracy: 0.7900\n",
            "Epoch 74/100\n",
            "7/7 [==============================] - 0s 5ms/step - loss: 0.5317 - accuracy: 0.7900\n",
            "Epoch 75/100\n",
            "7/7 [==============================] - 0s 10ms/step - loss: 0.5267 - accuracy: 0.7900\n",
            "Epoch 76/100\n",
            "7/7 [==============================] - 0s 12ms/step - loss: 0.5210 - accuracy: 0.7950\n",
            "Epoch 77/100\n",
            "7/7 [==============================] - 0s 12ms/step - loss: 0.5154 - accuracy: 0.7900\n",
            "Epoch 78/100\n",
            "7/7 [==============================] - 0s 12ms/step - loss: 0.5096 - accuracy: 0.7900\n",
            "Epoch 79/100\n",
            "7/7 [==============================] - 0s 8ms/step - loss: 0.5043 - accuracy: 0.7950\n",
            "Epoch 80/100\n",
            "7/7 [==============================] - 0s 12ms/step - loss: 0.4991 - accuracy: 0.8050\n",
            "Epoch 81/100\n",
            "7/7 [==============================] - 0s 8ms/step - loss: 0.4941 - accuracy: 0.8050\n",
            "Epoch 82/100\n",
            "7/7 [==============================] - 0s 8ms/step - loss: 0.4890 - accuracy: 0.8100\n",
            "Epoch 83/100\n",
            "7/7 [==============================] - 0s 22ms/step - loss: 0.4840 - accuracy: 0.8100\n",
            "Epoch 84/100\n",
            "7/7 [==============================] - 0s 15ms/step - loss: 0.4792 - accuracy: 0.8100\n",
            "Epoch 85/100\n",
            "7/7 [==============================] - 0s 35ms/step - loss: 0.4742 - accuracy: 0.8100\n",
            "Epoch 86/100\n",
            "7/7 [==============================] - 0s 11ms/step - loss: 0.4694 - accuracy: 0.8100\n",
            "Epoch 87/100\n",
            "7/7 [==============================] - 0s 5ms/step - loss: 0.4651 - accuracy: 0.8100\n",
            "Epoch 88/100\n",
            "7/7 [==============================] - 0s 5ms/step - loss: 0.4608 - accuracy: 0.8100\n",
            "Epoch 89/100\n",
            "7/7 [==============================] - 0s 11ms/step - loss: 0.4561 - accuracy: 0.8100\n",
            "Epoch 90/100\n",
            "7/7 [==============================] - 0s 12ms/step - loss: 0.4520 - accuracy: 0.8100\n",
            "Epoch 91/100\n",
            "7/7 [==============================] - 0s 4ms/step - loss: 0.4483 - accuracy: 0.8100\n",
            "Epoch 92/100\n",
            "7/7 [==============================] - 0s 5ms/step - loss: 0.4438 - accuracy: 0.8100\n",
            "Epoch 93/100\n",
            "7/7 [==============================] - 0s 12ms/step - loss: 0.4397 - accuracy: 0.8100\n",
            "Epoch 94/100\n",
            "7/7 [==============================] - 0s 6ms/step - loss: 0.4360 - accuracy: 0.8100\n",
            "Epoch 95/100\n",
            "7/7 [==============================] - 0s 6ms/step - loss: 0.4326 - accuracy: 0.8100\n",
            "Epoch 96/100\n",
            "7/7 [==============================] - 0s 4ms/step - loss: 0.4293 - accuracy: 0.8100\n",
            "Epoch 97/100\n",
            "7/7 [==============================] - 0s 4ms/step - loss: 0.4258 - accuracy: 0.8100\n",
            "Epoch 98/100\n",
            "7/7 [==============================] - 0s 4ms/step - loss: 0.4226 - accuracy: 0.8100\n",
            "Epoch 99/100\n",
            "7/7 [==============================] - 0s 4ms/step - loss: 0.4196 - accuracy: 0.8100\n",
            "Epoch 100/100\n",
            "7/7 [==============================] - 0s 4ms/step - loss: 0.4164 - accuracy: 0.8100\n"
          ]
        },
        {
          "output_type": "execute_result",
          "data": {
            "text/plain": [
              "<keras.callbacks.History at 0x7f511b305550>"
            ]
          },
          "metadata": {},
          "execution_count": 9
        }
      ]
    },
    {
      "cell_type": "code",
      "source": [
        "new_weights = model.get_weights()[0]"
      ],
      "metadata": {
        "id": "J6PwGDAvUGGg"
      },
      "execution_count": 10,
      "outputs": []
    },
    {
      "cell_type": "code",
      "source": [
        "model.optimizer.get_config()[\"learning_rate\"]"
      ],
      "metadata": {
        "colab": {
          "base_uri": "https://localhost:8080/"
        },
        "id": "rgu2pr0lWdDu",
        "outputId": "c5bd79ad-d8cc-441d-f4ec-6245e73d2711"
      },
      "execution_count": 11,
      "outputs": [
        {
          "output_type": "execute_result",
          "data": {
            "text/plain": [
              "0.001"
            ]
          },
          "metadata": {},
          "execution_count": 11
        }
      ]
    },
    {
      "cell_type": "code",
      "source": [
        "gradient = (old_weights - new_weights)/ 0.001\n",
        "percent_change = abs(100*(old_weights - new_weights)/ old_weights)"
      ],
      "metadata": {
        "id": "dp5IJsE-WI7w"
      },
      "execution_count": 12,
      "outputs": []
    },
    {
      "cell_type": "code",
      "source": [
        "gradient"
      ],
      "metadata": {
        "colab": {
          "base_uri": "https://localhost:8080/"
        },
        "id": "Av5OspqLWl0r",
        "outputId": "886ff4ef-f043-4541-fc40-30291041b88a"
      },
      "execution_count": 13,
      "outputs": [
        {
          "output_type": "execute_result",
          "data": {
            "text/plain": [
              "array([[ -680.3453 ,   283.82428,  -310.81702,  -561.9538 ,   569.8005 ,\n",
              "         -715.84015,   541.0472 ,   590.6196 ,  -606.09546,  -568.54803],\n",
              "       [ 1103.66   ,  -634.56476,   462.43475,   954.51483, -1085.3569 ,\n",
              "         1065.5938 , -1082.2494 ,  -917.213  ,   968.9136 ,   960.5847 ]],\n",
              "      dtype=float32)"
            ]
          },
          "metadata": {},
          "execution_count": 13
        }
      ]
    },
    {
      "cell_type": "code",
      "source": [
        "percent_change"
      ],
      "metadata": {
        "colab": {
          "base_uri": "https://localhost:8080/"
        },
        "id": "YJsZpaeoWm-8",
        "outputId": "352563a0-554a-4ea6-ae65-4f23558ec2f3"
      },
      "execution_count": 14,
      "outputs": [
        {
          "output_type": "execute_result",
          "data": {
            "text/plain": [
              "array([[ 369.6676  ,  105.09761 ,  172.99492 ,  131.02068 ,  115.62949 ,\n",
              "         441.32602 ,   98.984344,  227.36925 ,  606.5509  ,  198.57213 ],\n",
              "       [ 224.25552 ,  121.453026,  434.48254 ,  226.17532 , 8687.007   ,\n",
              "         254.23897 ,  269.9435  , 2435.6138  ,  812.5537  ,  930.77704 ]],\n",
              "      dtype=float32)"
            ]
          },
          "metadata": {},
          "execution_count": 14
        }
      ]
    },
    {
      "cell_type": "code",
      "source": [
        "old_weights"
      ],
      "metadata": {
        "colab": {
          "base_uri": "https://localhost:8080/"
        },
        "id": "5Uu6DITscBx5",
        "outputId": "3905baaa-233e-4a62-96f7-a88f8eabc23c"
      },
      "execution_count": 15,
      "outputs": [
        {
          "output_type": "execute_result",
          "data": {
            "text/plain": [
              "array([[ 0.18404245,  0.2700578 , -0.1796683 ,  0.4289047 , -0.49278128,\n",
              "        -0.16220212, -0.5465988 ,  0.25976235,  0.09992492,  0.28631818],\n",
              "       [-0.49214402,  0.52247757,  0.10643345,  0.4220243 ,  0.01249403,\n",
              "        -0.41913083,  0.400917  , -0.03765839,  0.11924303,  0.10320246]],\n",
              "      dtype=float32)"
            ]
          },
          "metadata": {},
          "execution_count": 15
        }
      ]
    },
    {
      "cell_type": "code",
      "source": [
        "new_weights"
      ],
      "metadata": {
        "colab": {
          "base_uri": "https://localhost:8080/"
        },
        "id": "72YfOy_-cEPj",
        "outputId": "ecb2a03c-1754-49cc-c221-ab12a69e4db1"
      },
      "execution_count": 16,
      "outputs": [
        {
          "output_type": "execute_result",
          "data": {
            "text/plain": [
              "array([[ 0.86438775, -0.0137665 ,  0.13114873,  0.99085855, -1.0625818 ,\n",
              "         0.55363804, -1.087646  , -0.33085737,  0.7060204 ,  0.85486627],\n",
              "       [-1.5958041 ,  1.1570424 , -0.35600132, -0.53249055,  1.0978509 ,\n",
              "        -1.4847246 ,  1.4831663 ,  0.8795547 , -0.8496706 , -0.8573823 ]],\n",
              "      dtype=float32)"
            ]
          },
          "metadata": {},
          "execution_count": 16
        }
      ]
    },
    {
      "cell_type": "code",
      "source": [
        "model = Sequential()\n",
        "\n",
        "model.add(Dense(10,activation='relu',input_dim=2))\n",
        "model.add(Dense(10,activation='relu'))\n",
        "model.add(Dense(10,activation='relu'))\n",
        "model.add(Dense(10,activation='relu'))\n",
        "model.add(Dense(10,activation='relu'))\n",
        "model.add(Dense(10,activation='relu'))\n",
        "model.add(Dense(10,activation='relu'))\n",
        "model.add(Dense(10,activation='relu'))\n",
        "model.add(Dense(10,activation='relu'))\n",
        "model.add(Dense(10,activation='relu'))\n",
        "model.add(Dense(10,activation='relu'))\n",
        "model.add(Dense(1, activation='sigmoid'))"
      ],
      "metadata": {
        "id": "nihtN5tYWqRR"
      },
      "execution_count": 17,
      "outputs": []
    },
    {
      "cell_type": "code",
      "source": [
        "model.compile(loss='binary_crossentropy',optimizer='adam',metrics=['accuracy'])"
      ],
      "metadata": {
        "id": "btOwuajlakTh"
      },
      "execution_count": 18,
      "outputs": []
    },
    {
      "cell_type": "code",
      "source": [
        "old_weights = model.get_weights()[0]"
      ],
      "metadata": {
        "id": "fqGsgRFOanlJ"
      },
      "execution_count": 19,
      "outputs": []
    },
    {
      "cell_type": "code",
      "source": [
        "X_train, X_test, y_train, y_test = train_test_split(X, y, test_size=0.20, random_state=42)"
      ],
      "metadata": {
        "id": "Wsafrolvap9R"
      },
      "execution_count": 20,
      "outputs": []
    },
    {
      "cell_type": "code",
      "source": [
        "model.fit(X_train, y_train, epochs = 100)"
      ],
      "metadata": {
        "colab": {
          "base_uri": "https://localhost:8080/"
        },
        "id": "nwFILWxLasTl",
        "outputId": "94023f92-c377-4436-9d4e-03979e8cc88a"
      },
      "execution_count": 21,
      "outputs": [
        {
          "output_type": "stream",
          "name": "stdout",
          "text": [
            "Epoch 1/100\n",
            "7/7 [==============================] - 2s 7ms/step - loss: 0.6924 - accuracy: 0.5100\n",
            "Epoch 2/100\n",
            "7/7 [==============================] - 0s 8ms/step - loss: 0.6900 - accuracy: 0.5400\n",
            "Epoch 3/100\n",
            "7/7 [==============================] - 0s 8ms/step - loss: 0.6868 - accuracy: 0.7550\n",
            "Epoch 4/100\n",
            "7/7 [==============================] - 0s 6ms/step - loss: 0.6821 - accuracy: 0.7500\n",
            "Epoch 5/100\n",
            "7/7 [==============================] - 0s 5ms/step - loss: 0.6733 - accuracy: 0.8400\n",
            "Epoch 6/100\n",
            "7/7 [==============================] - 0s 8ms/step - loss: 0.6630 - accuracy: 0.8550\n",
            "Epoch 7/100\n",
            "7/7 [==============================] - 0s 6ms/step - loss: 0.6493 - accuracy: 0.8800\n",
            "Epoch 8/100\n",
            "7/7 [==============================] - 0s 7ms/step - loss: 0.6328 - accuracy: 0.8800\n",
            "Epoch 9/100\n",
            "7/7 [==============================] - 0s 11ms/step - loss: 0.6081 - accuracy: 0.8600\n",
            "Epoch 10/100\n",
            "7/7 [==============================] - 0s 10ms/step - loss: 0.5760 - accuracy: 0.8550\n",
            "Epoch 11/100\n",
            "7/7 [==============================] - 0s 11ms/step - loss: 0.5340 - accuracy: 0.8750\n",
            "Epoch 12/100\n",
            "7/7 [==============================] - 0s 7ms/step - loss: 0.4852 - accuracy: 0.8550\n",
            "Epoch 13/100\n",
            "7/7 [==============================] - 0s 6ms/step - loss: 0.4291 - accuracy: 0.8850\n",
            "Epoch 14/100\n",
            "7/7 [==============================] - 0s 8ms/step - loss: 0.3809 - accuracy: 0.8850\n",
            "Epoch 15/100\n",
            "7/7 [==============================] - 0s 7ms/step - loss: 0.3254 - accuracy: 0.9000\n",
            "Epoch 16/100\n",
            "7/7 [==============================] - 0s 6ms/step - loss: 0.2887 - accuracy: 0.8950\n",
            "Epoch 17/100\n",
            "7/7 [==============================] - 0s 7ms/step - loss: 0.2610 - accuracy: 0.9050\n",
            "Epoch 18/100\n",
            "7/7 [==============================] - 0s 8ms/step - loss: 0.2421 - accuracy: 0.8950\n",
            "Epoch 19/100\n",
            "7/7 [==============================] - 0s 11ms/step - loss: 0.2210 - accuracy: 0.9150\n",
            "Epoch 20/100\n",
            "7/7 [==============================] - 0s 7ms/step - loss: 0.2147 - accuracy: 0.9100\n",
            "Epoch 21/100\n",
            "7/7 [==============================] - 0s 7ms/step - loss: 0.2125 - accuracy: 0.9200\n",
            "Epoch 22/100\n",
            "7/7 [==============================] - 0s 8ms/step - loss: 0.2068 - accuracy: 0.9100\n",
            "Epoch 23/100\n",
            "7/7 [==============================] - 0s 10ms/step - loss: 0.1945 - accuracy: 0.9200\n",
            "Epoch 24/100\n",
            "7/7 [==============================] - 0s 8ms/step - loss: 0.2087 - accuracy: 0.9050\n",
            "Epoch 25/100\n",
            "7/7 [==============================] - 0s 7ms/step - loss: 0.1919 - accuracy: 0.9250\n",
            "Epoch 26/100\n",
            "7/7 [==============================] - 0s 5ms/step - loss: 0.1832 - accuracy: 0.9150\n",
            "Epoch 27/100\n",
            "7/7 [==============================] - 0s 12ms/step - loss: 0.1753 - accuracy: 0.9200\n",
            "Epoch 28/100\n",
            "7/7 [==============================] - 0s 12ms/step - loss: 0.1704 - accuracy: 0.9250\n",
            "Epoch 29/100\n",
            "7/7 [==============================] - 0s 6ms/step - loss: 0.1671 - accuracy: 0.9300\n",
            "Epoch 30/100\n",
            "7/7 [==============================] - 0s 6ms/step - loss: 0.1686 - accuracy: 0.9300\n",
            "Epoch 31/100\n",
            "7/7 [==============================] - 0s 11ms/step - loss: 0.1571 - accuracy: 0.9350\n",
            "Epoch 32/100\n",
            "7/7 [==============================] - 0s 6ms/step - loss: 0.1781 - accuracy: 0.9250\n",
            "Epoch 33/100\n",
            "7/7 [==============================] - 0s 7ms/step - loss: 0.1775 - accuracy: 0.9300\n",
            "Epoch 34/100\n",
            "7/7 [==============================] - 0s 5ms/step - loss: 0.1585 - accuracy: 0.9250\n",
            "Epoch 35/100\n",
            "7/7 [==============================] - 0s 5ms/step - loss: 0.1606 - accuracy: 0.9250\n",
            "Epoch 36/100\n",
            "7/7 [==============================] - 0s 7ms/step - loss: 0.1717 - accuracy: 0.9300\n",
            "Epoch 37/100\n",
            "7/7 [==============================] - 0s 4ms/step - loss: 0.1467 - accuracy: 0.9500\n",
            "Epoch 38/100\n",
            "7/7 [==============================] - 0s 6ms/step - loss: 0.1732 - accuracy: 0.9250\n",
            "Epoch 39/100\n",
            "7/7 [==============================] - 0s 11ms/step - loss: 0.1507 - accuracy: 0.9350\n",
            "Epoch 40/100\n",
            "7/7 [==============================] - 0s 7ms/step - loss: 0.1385 - accuracy: 0.9500\n",
            "Epoch 41/100\n",
            "7/7 [==============================] - 0s 6ms/step - loss: 0.1456 - accuracy: 0.9250\n",
            "Epoch 42/100\n",
            "7/7 [==============================] - 0s 7ms/step - loss: 0.1265 - accuracy: 0.9500\n",
            "Epoch 43/100\n",
            "7/7 [==============================] - 0s 8ms/step - loss: 0.1128 - accuracy: 0.9600\n",
            "Epoch 44/100\n",
            "7/7 [==============================] - 0s 8ms/step - loss: 0.1145 - accuracy: 0.9500\n",
            "Epoch 45/100\n",
            "7/7 [==============================] - 0s 6ms/step - loss: 0.1055 - accuracy: 0.9600\n",
            "Epoch 46/100\n",
            "7/7 [==============================] - 0s 6ms/step - loss: 0.0999 - accuracy: 0.9550\n",
            "Epoch 47/100\n",
            "7/7 [==============================] - 0s 5ms/step - loss: 0.0935 - accuracy: 0.9650\n",
            "Epoch 48/100\n",
            "7/7 [==============================] - 0s 6ms/step - loss: 0.0948 - accuracy: 0.9650\n",
            "Epoch 49/100\n",
            "7/7 [==============================] - 0s 6ms/step - loss: 0.0855 - accuracy: 0.9650\n",
            "Epoch 50/100\n",
            "7/7 [==============================] - 0s 10ms/step - loss: 0.0895 - accuracy: 0.9650\n",
            "Epoch 51/100\n",
            "7/7 [==============================] - 0s 6ms/step - loss: 0.0725 - accuracy: 0.9900\n",
            "Epoch 52/100\n",
            "7/7 [==============================] - 0s 10ms/step - loss: 0.0805 - accuracy: 0.9650\n",
            "Epoch 53/100\n",
            "7/7 [==============================] - 0s 7ms/step - loss: 0.0933 - accuracy: 0.9600\n",
            "Epoch 54/100\n",
            "7/7 [==============================] - 0s 7ms/step - loss: 0.0663 - accuracy: 0.9750\n",
            "Epoch 55/100\n",
            "7/7 [==============================] - 0s 6ms/step - loss: 0.0693 - accuracy: 0.9700\n",
            "Epoch 56/100\n",
            "7/7 [==============================] - 0s 8ms/step - loss: 0.0601 - accuracy: 0.9800\n",
            "Epoch 57/100\n",
            "7/7 [==============================] - 0s 5ms/step - loss: 0.0529 - accuracy: 0.9900\n",
            "Epoch 58/100\n",
            "7/7 [==============================] - 0s 6ms/step - loss: 0.0441 - accuracy: 0.9900\n",
            "Epoch 59/100\n",
            "7/7 [==============================] - 0s 6ms/step - loss: 0.0420 - accuracy: 0.9900\n",
            "Epoch 60/100\n",
            "7/7 [==============================] - 0s 8ms/step - loss: 0.0380 - accuracy: 0.9950\n",
            "Epoch 61/100\n",
            "7/7 [==============================] - 0s 7ms/step - loss: 0.0423 - accuracy: 0.9850\n",
            "Epoch 62/100\n",
            "7/7 [==============================] - 0s 6ms/step - loss: 0.0454 - accuracy: 0.9850\n",
            "Epoch 63/100\n",
            "7/7 [==============================] - 0s 7ms/step - loss: 0.0313 - accuracy: 0.9950\n",
            "Epoch 64/100\n",
            "7/7 [==============================] - 0s 11ms/step - loss: 0.0312 - accuracy: 1.0000\n",
            "Epoch 65/100\n",
            "7/7 [==============================] - 0s 10ms/step - loss: 0.0253 - accuracy: 0.9950\n",
            "Epoch 66/100\n",
            "7/7 [==============================] - 0s 12ms/step - loss: 0.0237 - accuracy: 1.0000\n",
            "Epoch 67/100\n",
            "7/7 [==============================] - 0s 10ms/step - loss: 0.0226 - accuracy: 0.9950\n",
            "Epoch 68/100\n",
            "7/7 [==============================] - 0s 6ms/step - loss: 0.0203 - accuracy: 1.0000\n",
            "Epoch 69/100\n",
            "7/7 [==============================] - 0s 6ms/step - loss: 0.0181 - accuracy: 1.0000\n",
            "Epoch 70/100\n",
            "7/7 [==============================] - 0s 7ms/step - loss: 0.0166 - accuracy: 1.0000\n",
            "Epoch 71/100\n",
            "7/7 [==============================] - 0s 7ms/step - loss: 0.0157 - accuracy: 1.0000\n",
            "Epoch 72/100\n",
            "7/7 [==============================] - 0s 5ms/step - loss: 0.0152 - accuracy: 1.0000\n",
            "Epoch 73/100\n",
            "7/7 [==============================] - 0s 7ms/step - loss: 0.0135 - accuracy: 1.0000\n",
            "Epoch 74/100\n",
            "7/7 [==============================] - 0s 6ms/step - loss: 0.0130 - accuracy: 1.0000\n",
            "Epoch 75/100\n",
            "7/7 [==============================] - 0s 8ms/step - loss: 0.0121 - accuracy: 1.0000\n",
            "Epoch 76/100\n",
            "7/7 [==============================] - 0s 7ms/step - loss: 0.0116 - accuracy: 1.0000\n",
            "Epoch 77/100\n",
            "7/7 [==============================] - 0s 12ms/step - loss: 0.0108 - accuracy: 1.0000\n",
            "Epoch 78/100\n",
            "7/7 [==============================] - 0s 8ms/step - loss: 0.0096 - accuracy: 1.0000\n",
            "Epoch 79/100\n",
            "7/7 [==============================] - 0s 5ms/step - loss: 0.0099 - accuracy: 1.0000\n",
            "Epoch 80/100\n",
            "7/7 [==============================] - 0s 8ms/step - loss: 0.0088 - accuracy: 1.0000\n",
            "Epoch 81/100\n",
            "7/7 [==============================] - 0s 6ms/step - loss: 0.0082 - accuracy: 1.0000\n",
            "Epoch 82/100\n",
            "7/7 [==============================] - 0s 5ms/step - loss: 0.0078 - accuracy: 1.0000\n",
            "Epoch 83/100\n",
            "7/7 [==============================] - 0s 6ms/step - loss: 0.0072 - accuracy: 1.0000\n",
            "Epoch 84/100\n",
            "7/7 [==============================] - 0s 8ms/step - loss: 0.0066 - accuracy: 1.0000\n",
            "Epoch 85/100\n",
            "7/7 [==============================] - 0s 6ms/step - loss: 0.0063 - accuracy: 1.0000\n",
            "Epoch 86/100\n",
            "7/7 [==============================] - 0s 6ms/step - loss: 0.0060 - accuracy: 1.0000\n",
            "Epoch 87/100\n",
            "7/7 [==============================] - 0s 10ms/step - loss: 0.0056 - accuracy: 1.0000\n",
            "Epoch 88/100\n",
            "7/7 [==============================] - 0s 5ms/step - loss: 0.0054 - accuracy: 1.0000\n",
            "Epoch 89/100\n",
            "7/7 [==============================] - 0s 7ms/step - loss: 0.0052 - accuracy: 1.0000\n",
            "Epoch 90/100\n",
            "7/7 [==============================] - 0s 6ms/step - loss: 0.0050 - accuracy: 1.0000\n",
            "Epoch 91/100\n",
            "7/7 [==============================] - 0s 6ms/step - loss: 0.0048 - accuracy: 1.0000\n",
            "Epoch 92/100\n",
            "7/7 [==============================] - 0s 5ms/step - loss: 0.0046 - accuracy: 1.0000\n",
            "Epoch 93/100\n",
            "7/7 [==============================] - 0s 6ms/step - loss: 0.0043 - accuracy: 1.0000\n",
            "Epoch 94/100\n",
            "7/7 [==============================] - 0s 6ms/step - loss: 0.0041 - accuracy: 1.0000\n",
            "Epoch 95/100\n",
            "7/7 [==============================] - 0s 6ms/step - loss: 0.0039 - accuracy: 1.0000\n",
            "Epoch 96/100\n",
            "7/7 [==============================] - 0s 8ms/step - loss: 0.0039 - accuracy: 1.0000\n",
            "Epoch 97/100\n",
            "7/7 [==============================] - 0s 7ms/step - loss: 0.0036 - accuracy: 1.0000\n",
            "Epoch 98/100\n",
            "7/7 [==============================] - 0s 9ms/step - loss: 0.0036 - accuracy: 1.0000\n",
            "Epoch 99/100\n",
            "7/7 [==============================] - 0s 8ms/step - loss: 0.0034 - accuracy: 1.0000\n",
            "Epoch 100/100\n",
            "7/7 [==============================] - 0s 6ms/step - loss: 0.0032 - accuracy: 1.0000\n"
          ]
        },
        {
          "output_type": "execute_result",
          "data": {
            "text/plain": [
              "<keras.callbacks.History at 0x7f511b25de20>"
            ]
          },
          "metadata": {},
          "execution_count": 21
        }
      ]
    },
    {
      "cell_type": "code",
      "source": [
        "new_weights = model.get_weights()[0]"
      ],
      "metadata": {
        "id": "XwFICdC4aubt"
      },
      "execution_count": 22,
      "outputs": []
    },
    {
      "cell_type": "code",
      "source": [
        "model.optimizer.get_config()[\"learning_rate\"]"
      ],
      "metadata": {
        "colab": {
          "base_uri": "https://localhost:8080/"
        },
        "id": "sVKywUK2axYB",
        "outputId": "53277613-af01-4c58-d772-033535913914"
      },
      "execution_count": 23,
      "outputs": [
        {
          "output_type": "execute_result",
          "data": {
            "text/plain": [
              "0.001"
            ]
          },
          "metadata": {},
          "execution_count": 23
        }
      ]
    },
    {
      "cell_type": "code",
      "source": [
        "gradient = (old_weights - new_weights)/ 0.001\n",
        "percent_change = abs(100*(old_weights - new_weights)/ old_weights)"
      ],
      "metadata": {
        "id": "RFiBr47yazsA"
      },
      "execution_count": 24,
      "outputs": []
    },
    {
      "cell_type": "code",
      "source": [
        "gradient"
      ],
      "metadata": {
        "colab": {
          "base_uri": "https://localhost:8080/"
        },
        "id": "ivFmVMQWa2Vw",
        "outputId": "48b2c10d-be4c-416d-fec1-20af410fadc6"
      },
      "execution_count": 25,
      "outputs": [
        {
          "output_type": "execute_result",
          "data": {
            "text/plain": [
              "array([[ 238.1037  ,    8.366286,  -25.899588,  -39.772747,   -4.219502,\n",
              "         146.7252  ,   11.92063 ,  -25.667309,  -32.940685,   34.258266],\n",
              "       [ -29.849901,   24.193523,   75.90496 ,   62.46665 , -164.69519 ,\n",
              "        -209.34384 ,   33.327938,  -13.049423,   90.38502 ,  -11.896818]],\n",
              "      dtype=float32)"
            ]
          },
          "metadata": {},
          "execution_count": 25
        }
      ]
    },
    {
      "cell_type": "code",
      "source": [
        "percent_change"
      ],
      "metadata": {
        "colab": {
          "base_uri": "https://localhost:8080/"
        },
        "id": "WGELmjRHa42h",
        "outputId": "6b80ef6e-9430-4910-872b-a46e8e099ac5"
      },
      "execution_count": 26,
      "outputs": [
        {
          "output_type": "execute_result",
          "data": {
            "text/plain": [
              "array([[ 55.869396 ,   1.5076709,   4.005221 ,   8.081712 ,   0.9096341,\n",
              "        169.42677  ,   1.9219062,   3.7337885,   6.117841 ,  30.70192  ],\n",
              "       [ 22.507624 ,   3.7737753,  12.581471 ,  17.776312 ,  24.384586 ,\n",
              "         35.327286 ,  46.407158 ,   1.8619287,  19.620298 ,   3.2026446]],\n",
              "      dtype=float32)"
            ]
          },
          "metadata": {},
          "execution_count": 26
        }
      ]
    },
    {
      "cell_type": "code",
      "source": [
        "old_weights"
      ],
      "metadata": {
        "colab": {
          "base_uri": "https://localhost:8080/"
        },
        "id": "twVvX_-qa70F",
        "outputId": "50cc8f74-d62d-428d-dba7-7d064f2ed185"
      },
      "execution_count": 27,
      "outputs": [
        {
          "output_type": "execute_result",
          "data": {
            "text/plain": [
              "array([[-0.42617914,  0.55491465,  0.6466457 ,  0.49213272,  0.46386808,\n",
              "         0.08660096,  0.6202504 ,  0.6874334 ,  0.5384365 ,  0.11158347],\n",
              "       [ 0.13262129,  0.64109606,  0.60330755, -0.3514039 ,  0.675407  ,\n",
              "        -0.592584  ,  0.07181638,  0.7008552 , -0.46067095,  0.3714686 ]],\n",
              "      dtype=float32)"
            ]
          },
          "metadata": {},
          "execution_count": 27
        }
      ]
    },
    {
      "cell_type": "code",
      "source": [
        "new_weights"
      ],
      "metadata": {
        "colab": {
          "base_uri": "https://localhost:8080/"
        },
        "id": "Cy_6H27scOnh",
        "outputId": "a12ff142-a9a2-40ff-a6dc-661f9473aa4b"
      },
      "execution_count": 28,
      "outputs": [
        {
          "output_type": "execute_result",
          "data": {
            "text/plain": [
              "array([[-0.66428286,  0.54654837,  0.6725453 ,  0.5319055 ,  0.46808758,\n",
              "        -0.06012425,  0.6083298 ,  0.71310073,  0.57137716,  0.0773252 ],\n",
              "       [ 0.16247119,  0.61690253,  0.5274026 , -0.41387054,  0.8401022 ,\n",
              "        -0.38324016,  0.03848844,  0.7139046 , -0.55105597,  0.38336542]],\n",
              "      dtype=float32)"
            ]
          },
          "metadata": {},
          "execution_count": 28
        }
      ]
    },
    {
      "cell_type": "markdown",
      "source": [
        "Solution :\n",
        "\n",
        "   1:Reduce model complexity(if your model contains large hidden layers use few hidden layer(shallow network) but it is not recommmended for solving complex problem \n",
        "\n",
        "   2:Use Relu activation function "
      ],
      "metadata": {
        "id": "7q7EhqlfNeyi"
      }
    },
    {
      "cell_type": "code",
      "source": [],
      "metadata": {
        "id": "BlsT6KOCcQho"
      },
      "execution_count": 28,
      "outputs": []
    }
  ]
}