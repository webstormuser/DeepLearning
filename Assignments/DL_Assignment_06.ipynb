{
  "nbformat": 4,
  "nbformat_minor": 0,
  "metadata": {
    "colab": {
      "provenance": [],
      "gpuType": "T4"
    },
    "kernelspec": {
      "name": "python3",
      "display_name": "Python 3"
    },
    "language_info": {
      "name": "python"
    },
    "accelerator": "GPU"
  },
  "cells": [
    {
      "cell_type": "code",
      "execution_count": null,
      "metadata": {
        "id": "VaMVd666YeV9"
      },
      "outputs": [],
      "source": []
    },
    {
      "cell_type": "markdown",
      "source": [
        "#Q1. What are the advantages of a CNN over a fully connected DNN for image classification?"
      ],
      "metadata": {
        "id": "JMtxT0QhYxZC"
      }
    },
    {
      "cell_type": "markdown",
      "source": [
        "ANS:Convolutional Neural Networks (CNNs) have several advantages over fully connected Deep Neural Networks (DNNs) when it comes to image classification:\n",
        "\n",
        "1. Hierarchical Feature Learning: CNNs are specifically designed to capture hierarchical features in images. Convolutional layers with shared weights learn local patterns, such as edges or textures, across the entire image, while pooling layers capture spatial invariance and reduce dimensionality. This hierarchical feature learning enables CNNs to extract meaningful and discriminative features at different levels of abstraction.\n",
        "\n",
        "2. Translation Invariance: CNNs exploit the translation invariance property of images. By using shared weights and local receptive fields, CNNs can recognize the same pattern regardless of its location in the image. This property makes CNNs more robust to variations in object position, making them well-suited for tasks like image classification.\n",
        "\n",
        "3. Parameter Efficiency: CNNs are more parameter-efficient compared to fully connected DNNs. In CNNs, weight sharing is used to exploit spatial coherence, reducing the number of learnable parameters. This parameter sharing allows CNNs to effectively learn from high-dimensional images without requiring an excessive number of parameters, making them more efficient and less prone to overfitting.\n",
        "\n",
        "4. Spatial Structure Preservation: CNNs preserve the spatial structure of the input image through convolutional and pooling layers. Fully connected DNNs treat input data as a one-dimensional vector and ignore the spatial relationships present in images. CNNs, on the other hand, retain the spatial information within the image, which is essential for capturing visual patterns and object relationships.\n",
        "\n",
        "5. Computational Efficiency: Due to weight sharing and local receptive fields, CNNs are computationally efficient compared to fully connected DNNs. The convolutional and pooling operations in CNNs reduce the spatial dimensions, resulting in a smaller number of parameters and computations compared to fully connected layers, especially for large input images.\n",
        "\n",
        "6. Scale and Rotation Invariance: CNNs can exhibit scale and rotation invariance to some extent. Due to the pooling layers, CNNs can handle variations in object size and orientation. This property allows CNNs to classify objects regardless of their specific scales or rotations within the image.\n"
      ],
      "metadata": {
        "id": "zTYZ-79MZAur"
      }
    },
    {
      "cell_type": "markdown",
      "source": [
        "#Q2. Consider a CNN composed of three convolutional layers, each with 3 × 3 kernels, a stride of 2, and &quot;same&quot; padding. The lowest layer outputs 100 feature maps, the middle one outputs 200, and the top one outputs 400. The input images are RGB images of 200 × 300 pixels.\n",
        "\n",
        "What is the total number of parameters in the CNN? If we are using 32-bit floats, at least how much\n",
        "RAM will this network require when making a prediction for a single instance? What about when\n",
        "training on a mini-batch of 50 images?"
      ],
      "metadata": {
        "id": "sxbW-z38ZIGd"
      }
    },
    {
      "cell_type": "markdown",
      "source": [
        "ANS:To calculate the total number of parameters in the CNN, we need to consider the parameters in each layer and their corresponding dimensions. Here's how we can calculate the total number of parameters:\n",
        "\n",
        "1. Convolutional Layer 1:\n",
        "   - Input: RGB images (3 channels) of size 200 × 300\n",
        "   - Number of filters: 100\n",
        "   - Filter size: 3 × 3\n",
        "   - Bias terms: 100\n",
        "   - Total parameters in Convolutional Layer 1: (3 channels × 3 × 3 + 1) × 100 = 2800\n",
        "\n",
        "2. Convolutional Layer 2:\n",
        "   - Input: 100 feature maps from the previous layer\n",
        "   - Number of filters: 200\n",
        "   - Filter size: 3 × 3\n",
        "   - Bias terms: 200\n",
        "   - Total parameters in Convolutional Layer 2: (100 feature maps × 3 × 3 + 1) × 200 = 180,200\n",
        "\n",
        "3. Convolutional Layer 3:\n",
        "   - Input: 200 feature maps from the previous layer\n",
        "   - Number of filters: 400\n",
        "   - Filter size: 3 × 3\n",
        "   - Bias terms: 400\n",
        "   - Total parameters in Convolutional Layer 3: (200 feature maps × 3 × 3 + 1) × 400 = 720,400\n",
        "\n",
        "Total number of parameters in the CNN: 2800 + 180,200 + 720,400 = 903,400 parameters\n",
        "\n",
        "Now, let's calculate the memory required for making predictions and training:\n",
        "\n",
        "For making a prediction for a single instance:\n",
        "- Each parameter is stored as a 32-bit float (4 bytes).\n",
        "- The total memory required for making a prediction can be calculated by multiplying the number of parameters by the size of each parameter.\n",
        "\n",
        "Memory required for making a prediction for a single instance: 903,400 parameters × 4 bytes/parameter = 3,613,600 bytes or approximately 3.45 MB\n",
        "\n",
        "For training on a mini-batch of 50 images:\n",
        "- The memory required for training will include the memory for storing input images, intermediate feature maps, gradients, and other variables used in backpropagation.\n",
        "- The exact memory requirements may depend on various factors, such as the batch size, GPU memory limitations, and memory optimization techniques.\n",
        "- However, a rough estimation of the memory required for training can be calculated by considering the memory for storing the parameters and a multiple of the batch size.\n",
        "\n",
        "Memory required for training on a mini-batch of 50 images: (903,400 parameters × 4 bytes/parameter) + (50 images × size of image data)\n",
        "\n",
        "Please note that the size of image data depends on the size of each image (200 × 300) and the number of channels (3 for RGB images), resulting in a total size of 200 × 300 × 3 × 4 bytes (assuming each pixel is represented as a 32-bit float).\n",
        "\n"
      ],
      "metadata": {
        "id": "rIXgVsAaZUKq"
      }
    },
    {
      "cell_type": "markdown",
      "source": [
        "# Q3. If your GPU runs out of memory while training a CNN, what are five things you could try to solve the problem?"
      ],
      "metadata": {
        "id": "fPY4KAJVZd8c"
      }
    },
    {
      "cell_type": "markdown",
      "source": [
        "ANS:If your GPU runs out of memory while training a CNN, here are five things you could try to solve the problem:\n",
        "\n",
        "1. Reduce Batch Size: One of the most common solutions is to reduce the batch size. The batch size determines how many samples are processed in each iteration. By reducing the batch size, you can reduce the memory usage because fewer samples are stored in GPU memory at a time. However, smaller batch sizes may affect the convergence speed and stability of the training process.\n",
        "\n",
        "2. Decrease Model Complexity: Another approach is to reduce the complexity of the model. This can involve reducing the number of layers, decreasing the number of filters in each layer, or decreasing the dimensions of the feature maps. A simpler model requires less memory to store the parameters and intermediate activations.\n",
        "\n",
        "3. Use Data Parallelism: Data parallelism involves splitting the mini-batch across multiple GPUs or CPU cores. Each GPU or core processes a subset of the mini-batch independently, and the gradients are averaged or aggregated before updating the model's parameters. Data parallelism allows you to train with a larger effective batch size without increasing memory usage on a single GPU.\n",
        "\n",
        "4. Gradient Checkpointing: Gradient checkpointing is a technique that trades off memory usage for computation time. Instead of storing all intermediate activations during the forward pass, you selectively store a subset of activations that are necessary for computing the gradients during backpropagation. This reduces memory consumption at the cost of increased computation time.\n",
        "\n",
        "5. Use Mixed Precision Training: Mixed precision training combines both single-precision (FP32) and half-precision (FP16) floating-point formats. FP16 requires half the memory of FP32 but can lead to numerical stability issues. By using mixed precision training, you can store certain parts of the model in FP16 while keeping other parts in FP32, reducing memory usage while maintaining numerical stability.\n",
        "\n",
        "It's worth noting that the effectiveness of these solutions may depend on the specific architecture, model size, and memory requirements of your CNN. Additionally, it is recommended to monitor GPU memory usage during training and consider using tools like NVIDIA's CUDA memory profiler or TensorFlow's memory profiler to gain insights into memory usage and potential optimizations."
      ],
      "metadata": {
        "id": "vy8FThM-tlcP"
      }
    },
    {
      "cell_type": "markdown",
      "source": [
        "# Q 4. Why would you want to add a max pooling layer rather than a convolutional layer with the same stride?"
      ],
      "metadata": {
        "id": "_phffUYKtltM"
      }
    },
    {
      "cell_type": "markdown",
      "source": [
        "ABS:Adding a max pooling layer instead of a convolutional layer with the same stride serves different purposes in a Convolutional Neural Network (CNN). Both layers are used for different types of operations during the feature extraction process.\n",
        "\n",
        "**Max Pooling Layer**:\n",
        "A max pooling layer is primarily used to downsample the spatial dimensions of the feature maps, reducing their size while retaining the most important information. It operates by dividing the feature map into non-overlapping regions (often with a fixed size, like 2x2 or 3x3) and selecting the maximum value within each region as the output. Max pooling helps in achieving several benefits:\n",
        "\n",
        "1. **Translation Invariance**: Max pooling provides a degree of translation invariance, which means that small changes in the input's location will not have a significant impact on the output. This property helps the network to focus on the most important features, regardless of their exact position in the input.\n",
        "\n",
        "2. **Dimensionality Reduction**: By reducing the spatial dimensions of the feature maps, max pooling helps in controlling the model's memory usage and computational complexity, making the network more manageable and efficient.\n",
        "\n",
        "**Convolutional Layer with the Same Stride**:\n",
        "A convolutional layer with the same stride as a max pooling layer would still be used for feature extraction, but it wouldn't serve the downsampling purpose. The role of the convolutional layer with the same stride is to capture local patterns and features in the input data.\n",
        "\n",
        "When might you choose a convolutional layer with the same stride over a max pooling layer?\n",
        "\n",
        "1. **Early Layers**: In the early layers of a CNN, you might want to use convolutional layers with a small stride to extract local features at a higher resolution without significant downsampling. This is especially useful when the input data contains fine-grained details that need to be preserved in the early stages of processing.\n",
        "\n",
        "2. **Fully Convolutional Networks**: In certain architectures, like Fully Convolutional Networks (FCNs) used for semantic segmentation tasks, strided convolutions are employed to perform both downsampling and feature extraction simultaneously, without relying on pooling layers.\n",
        "\n",
        "In summary, the choice between a max pooling layer and a convolutional layer with the same stride depends on the specific requirements of the CNN architecture and the objectives of the feature extraction process at different stages of the network. Max pooling is commonly used for downsampling and translation invariance, while strided convolutions are used when preserving finer details is essential or when dealing with fully convolutional architectures."
      ],
      "metadata": {
        "id": "Whvf5h_Dtl38"
      }
    },
    {
      "cell_type": "markdown",
      "source": [
        "# Q5. When would you want to add a local response normalization layer?"
      ],
      "metadata": {
        "id": "2FFOgc8Zd8AB"
      }
    },
    {
      "cell_type": "markdown",
      "source": [
        "ANS:The Local Response Normalization (LRN) layer was introduced as a technique in deep learning, particularly in Convolutional Neural Networks (CNNs), to enhance the generalization and discriminative capabilities of the network. However, it is important to note that LRN is less commonly used in modern architectures compared to other normalization techniques like Batch Normalization. As of my knowledge cutoff in September 2021, it might have been largely replaced by more effective normalization methods in most cases.\n",
        "\n",
        "Nonetheless, there might be some situations where you would consider adding a Local Response Normalization layer:\n",
        "\n",
        "1. **Traditional CNN Architectures**: LRN was popular in traditional CNN architectures, especially before Batch Normalization became widespread. If you are working with an older network architecture and LRN is already a part of it, you might choose to keep it for compatibility reasons.\n",
        "\n",
        "2. **Replicating Older Research**: If you are reproducing an older research study or paper that used LRN and want to compare your results directly with theirs, you would need to include LRN in your model.\n",
        "\n",
        "3. **Specific Architectural Choices**: In some specialized architectures, particularly those inspired by biological visual systems, LRN might be preferred due to its local inhibition and excitation properties.\n",
        "\n",
        "Despite the above scenarios, it is important to be aware that LRN has some limitations, and more modern normalization techniques, like Batch Normalization or Layer Normalization, are generally more effective and easier to implement. These normalization techniques tend to provide better regularization, accelerate training convergence, and handle covariate shift more robustly compared to LRN. Therefore, when building new CNN models or updating existing ones, you may prefer using Batch Normalization or other normalization techniques instead of LRN."
      ],
      "metadata": {
        "id": "9Lpv6-69d8HN"
      }
    },
    {
      "cell_type": "markdown",
      "source": [
        "#Q6. Can you name the main innovations in AlexNet, compared to LeNet-5? What about the main innovations in GoogLeNet, ResNet, SENet, and Xception?"
      ],
      "metadata": {
        "id": "tOdWIZDTd8J_"
      }
    },
    {
      "cell_type": "markdown",
      "source": [
        "ANS:Sure! Let's go through the main innovations in each of these deep learning architectures compared to their predecessors:\n",
        "\n",
        "1. AlexNet (compared to LeNet-5):\n",
        "   - Deeper architecture: AlexNet was significantly deeper than LeNet-5, consisting of eight layers, including five convolutional layers and three fully connected layers. This depth allowed it to learn more complex features from the data.\n",
        "   - Rectified Linear Units (ReLU): AlexNet used the ReLU activation function, which helped alleviate the vanishing gradient problem and enabled faster training compared to LeNet-5's sigmoid activation.\n",
        "   - Overlapping pooling: AlexNet used overlapping max-pooling, which reduced spatial dimensions more aggressively, leading to better translation invariance and a significant reduction in the number of parameters.\n",
        "\n",
        "2. GoogLeNet (Inception) (compared to AlexNet):\n",
        "   - Inception module: GoogLeNet introduced the inception module, which used multiple filter sizes (1x1, 3x3, 5x5) and pooling operations in parallel to capture different scales of information within the same layer. This allowed it to learn more diverse and efficient features.\n",
        "   - Global Average Pooling: Instead of fully connected layers, GoogLeNet used global average pooling, which computes the average of each feature map's values, reducing the spatial dimensions to a single vector. This helped reduce overfitting and the number of parameters.\n",
        "\n",
        "3. ResNet (compared to traditional deep networks):\n",
        "   - Residual blocks: ResNet introduced the concept of residual learning. Instead of directly learning the mapping from input to output, it learned residual mappings, i.e., the difference between the input and output. This allowed for training very deep networks (e.g., 50 or more layers) without vanishing gradient problems and enabled easier optimization.\n",
        "   - Skip connections: ResNet used skip connections to add the input directly to the output of one or more layers, allowing information to flow through the network without getting lost during backpropagation.\n",
        "\n",
        "4. SENet (compared to traditional deep networks):\n",
        "   - Squeeze-and-Excitation (SE) block: SENet introduced SE blocks that adaptively recalibrate the channel-wise features by using a global information gain. It allowed the model to focus on more important features and enhance representational power.\n",
        "\n",
        "5. Xception (compared to traditional deep networks):\n",
        "   - Depthwise separable convolutions: Xception used depthwise separable convolutions, which split the standard convolution into a depthwise convolution (filtering spatially) and a pointwise convolution (filtering channels). This reduced the number of parameters and computation while maintaining expressive power.\n",
        "   - Extreme inception modules: Xception further extended the inception concept from GoogLeNet, using depthwise separable convolutions within each inception module.\n",
        "\n",
        "These innovations significantly contributed to the advancement of deep learning architectures, enabling them to achieve better performance, deeper networks, and improved training efficiency."
      ],
      "metadata": {
        "id": "jh4_pFGVd8Nb"
      }
    },
    {
      "cell_type": "markdown",
      "source": [
        "#Q 7. What is a fully convolutional network? How can you convert a dense layer into a convolutional layer?"
      ],
      "metadata": {
        "id": "5Banf15pd8Q0"
      }
    },
    {
      "cell_type": "markdown",
      "source": [
        "ANS:A Fully Convolutional Network (FCN) is a type of neural network architecture that consists entirely of convolutional layers, without any fully connected layers. FCNs are primarily used for tasks like semantic segmentation, where the goal is to assign a class label to each pixel in an image, enabling dense predictions. Unlike traditional CNNs that typically end with fully connected layers for classification, FCNs preserve the spatial information of the input throughout the network, making them suitable for tasks that require pixel-level predictions.\n",
        "\n",
        "To convert a dense (fully connected) layer into a convolutional layer, we need to ensure that the spatial dimensions of the feature maps remain intact. Dense layers are designed to take a flattened input and produce an output vector of a fixed size, which is not suitable for preserving spatial information.\n",
        "\n",
        "The conversion process involves two main steps:\n",
        "\n",
        "1. Identify the Input Size:\n",
        "   - In a dense layer, the input is a one-dimensional vector. To convert it into a convolutional layer, we need to know the spatial dimensions (height and width) of the feature maps before they were flattened to create the dense layer.\n",
        "\n",
        "2. Reshape the Weights:\n",
        "   - The weights of a dense layer are typically represented as a matrix, where each row corresponds to a neuron and each column corresponds to a weight for a particular input feature. To convert this to a convolutional layer, we reshape this weight matrix into a 3D tensor with dimensions (filter_height, filter_width, num_input_channels, num_output_channels).\n",
        "   - The filter_height and filter_width should match the spatial dimensions identified in step 1.\n",
        "   - The num_input_channels should match the number of neurons in the previous dense layer (the size of the flattened input).\n",
        "   - The num_output_channels corresponds to the number of neurons in the dense layer, which is also the number of neurons in the following convolutional layer.\n",
        "\n",
        "After converting the dense layer to a convolutional layer, it can be seamlessly integrated into the FCN architecture. By using convolutional layers exclusively, FCNs can efficiently process and output dense predictions for tasks like semantic segmentation without the need for any fully connected layers."
      ],
      "metadata": {
        "id": "nVJYUnBDd8Tw"
      }
    },
    {
      "cell_type": "markdown",
      "source": [
        "#Q8. What is the main technical difficulty of semantic segmentation?"
      ],
      "metadata": {
        "id": "rrCKsJ0Dh6HH"
      }
    },
    {
      "cell_type": "markdown",
      "source": [
        "ANS:The main technical difficulty of semantic segmentation is the need to accurately assign a class label to each pixel in an image while preserving the spatial context and boundaries of objects. Unlike image classification tasks, where the goal is to classify the entire image into a single category, semantic segmentation requires detailed understanding of the image at the pixel level.\n",
        "\n",
        "Several challenges contribute to the complexity of semantic segmentation:\n",
        "\n",
        "1. Pixel-level prediction: In semantic segmentation, each pixel needs to be classified into one of the predefined classes or categories. This fine-grained prediction demands a high level of detail and precision, making it computationally intensive and challenging.\n",
        "\n",
        "2. Object occlusion and overlap: Objects in an image can be occluded or partially overlap with each other, leading to ambiguity in assigning the correct class label to the pixels. Distinguishing object boundaries and handling complex object interactions is a challenging aspect of semantic segmentation.\n",
        "\n",
        "3. Variable object sizes and shapes: Objects in an image can vary significantly in terms of size, shape, and orientation. Traditional convolutional neural networks may struggle to handle large and small objects effectively within the same network architecture.\n",
        "\n",
        "4. Data imbalance: The distribution of classes in an image can be highly imbalanced, with some classes being much more prevalent than others. This can lead to biased learning and difficulty in accurately representing less frequent classes.\n",
        "\n",
        "5. Computational complexity: Semantic segmentation involves processing a large number of pixels, which can be computationally expensive. Efficient architectures and optimization techniques are required to handle this complexity within reasonable timeframes.\n",
        "\n",
        "6. Contextual understanding: For accurate segmentation, the model must have a deep understanding of the context surrounding each pixel. Contextual information is crucial for correctly assigning class labels, especially in regions with similar textures or colors but different semantic meanings.\n",
        "\n",
        "7. Generalization to diverse scenes: Semantic segmentation models need to be robust and generalize well to diverse environments, lighting conditions, and object variations. This requires extensive and diverse training datasets and well-designed architectures.\n",
        "\n",
        "Addressing these challenges often requires a combination of innovative network architectures, advanced training strategies, data augmentation techniques, and careful design of loss functions specific to semantic segmentation. Researchers continuously work on improving the performance of semantic segmentation models to tackle these difficulties and make them more applicable to real-world scenarios."
      ],
      "metadata": {
        "id": "76lVdAC6h6O5"
      }
    },
    {
      "cell_type": "markdown",
      "source": [
        "#Q9. Build your own CNN from scratch and try to achieve the highest possible accuracy on MNIST."
      ],
      "metadata": {
        "id": "w7qlJoOwh6RX"
      }
    },
    {
      "cell_type": "markdown",
      "source": [
        "ANS: Steps build the CNN achitecture\n",
        "\n",
        " * import libraris\n",
        " * import MNIST dataset\n",
        " * load mnist dataset\n",
        " * split dataset into train and test set\n",
        " * normalize the image size (image size/255)\n",
        " * reshape train and test set  into grayscale\n",
        " * encode the lable  \n",
        " * build the model\n",
        " * add convulutional layer and maxpooling layer\n",
        " * add fully connected layer\n",
        " * compile the model and finally ttrain the model\n",
        " * evaluate the model on test data"
      ],
      "metadata": {
        "id": "sTs7stRyh6Vd"
      }
    },
    {
      "cell_type": "code",
      "source": [
        "import numpy as np\n",
        "import matplotlib.pyplot as plt\n",
        "from keras.datasets import mnist\n",
        "from keras.utils import to_categorical\n",
        "from keras.models import Sequential\n",
        "from keras.layers import Conv2D, MaxPooling2D, Flatten, Dense"
      ],
      "metadata": {
        "id": "GtQ6zb3skQ9X"
      },
      "execution_count": null,
      "outputs": []
    },
    {
      "cell_type": "code",
      "source": [
        "# Load the dataset\n",
        "(train_images, train_labels), (test_images, test_labels) = mnist.load_data()"
      ],
      "metadata": {
        "colab": {
          "base_uri": "https://localhost:8080/"
        },
        "id": "gjHAqaP7kUia",
        "outputId": "f89b242f-451f-4b3d-9797-772d8c92fae6"
      },
      "execution_count": null,
      "outputs": [
        {
          "output_type": "stream",
          "name": "stdout",
          "text": [
            "Downloading data from https://storage.googleapis.com/tensorflow/tf-keras-datasets/mnist.npz\n",
            "11490434/11490434 [==============================] - 2s 0us/step\n"
          ]
        }
      ]
    },
    {
      "cell_type": "code",
      "source": [
        "train_images"
      ],
      "metadata": {
        "id": "lWPZjkKJkUyD"
      },
      "execution_count": null,
      "outputs": []
    },
    {
      "cell_type": "code",
      "source": [
        "train_labels"
      ],
      "metadata": {
        "colab": {
          "base_uri": "https://localhost:8080/"
        },
        "id": "T9th0UKXkU2m",
        "outputId": "d3460af6-a93f-4e44-9cd8-55a285c1b16d"
      },
      "execution_count": null,
      "outputs": [
        {
          "output_type": "execute_result",
          "data": {
            "text/plain": [
              "array([5, 0, 4, ..., 5, 6, 8], dtype=uint8)"
            ]
          },
          "metadata": {},
          "execution_count": 4
        }
      ]
    },
    {
      "cell_type": "code",
      "source": [
        "# Normalize the images to values between 0 and 1\n",
        "train_images = train_images.astype('float32') / 255\n",
        "test_images = test_images.astype('float32') / 255"
      ],
      "metadata": {
        "id": "ava6TTBmYy0b"
      },
      "execution_count": null,
      "outputs": []
    },
    {
      "cell_type": "code",
      "source": [
        "# Reshape the images to have a single color channel (grayscale)\n",
        "train_images = train_images.reshape(train_images.shape[0], 28, 28, 1)\n",
        "test_images = test_images.reshape(test_images.shape[0], 28, 28, 1)"
      ],
      "metadata": {
        "id": "_IRa1zSekkG4"
      },
      "execution_count": null,
      "outputs": []
    },
    {
      "cell_type": "code",
      "source": [
        "train_images.shape"
      ],
      "metadata": {
        "colab": {
          "base_uri": "https://localhost:8080/"
        },
        "id": "uu1RwceuklWi",
        "outputId": "bde69639-6a1a-4285-a121-c5a9613636a6"
      },
      "execution_count": null,
      "outputs": [
        {
          "output_type": "execute_result",
          "data": {
            "text/plain": [
              "(60000, 28, 28, 1)"
            ]
          },
          "metadata": {},
          "execution_count": 8
        }
      ]
    },
    {
      "cell_type": "code",
      "source": [
        "test_images.shape"
      ],
      "metadata": {
        "colab": {
          "base_uri": "https://localhost:8080/"
        },
        "id": "JOJucpAsklY6",
        "outputId": "5737d9e5-2dce-4f58-91e8-9d0572eda5d0"
      },
      "execution_count": null,
      "outputs": [
        {
          "output_type": "execute_result",
          "data": {
            "text/plain": [
              "(10000, 28, 28, 1)"
            ]
          },
          "metadata": {},
          "execution_count": 9
        }
      ]
    },
    {
      "cell_type": "code",
      "source": [
        "# One-hot encode the labels\n",
        "train_labels = to_categorical(train_labels)\n",
        "test_labels = to_categorical(test_labels)"
      ],
      "metadata": {
        "id": "ySk_etnoklcZ"
      },
      "execution_count": null,
      "outputs": []
    },
    {
      "cell_type": "code",
      "source": [
        "train_labels[0]"
      ],
      "metadata": {
        "colab": {
          "base_uri": "https://localhost:8080/"
        },
        "id": "TSVFifk-klfR",
        "outputId": "d44071ff-bfc9-41f2-cd99-7d54190b8945"
      },
      "execution_count": null,
      "outputs": [
        {
          "output_type": "execute_result",
          "data": {
            "text/plain": [
              "array([0., 0., 0., 0., 0., 1., 0., 0., 0., 0.], dtype=float32)"
            ]
          },
          "metadata": {},
          "execution_count": 12
        }
      ]
    },
    {
      "cell_type": "code",
      "source": [
        "# Create a sequential model\n",
        "model = Sequential()\n",
        "\n",
        "# Add the first convolutional layer with 32 filters and a 3x3 kernel size\n",
        "model.add(Conv2D(32, (3, 3), activation='relu', input_shape=(28, 28, 1)))\n",
        "\n",
        "# Add a max pooling layer with a 2x2 pool size\n",
        "model.add(MaxPooling2D((2, 2)))\n",
        "\n",
        "# Add another convolutional layer with 64 filters and a 3x3 kernel size\n",
        "model.add(Conv2D(64, (3, 3), activation='relu'))\n",
        "\n",
        "# Add another max pooling layer\n",
        "model.add(MaxPooling2D((2, 2)))\n",
        "\n",
        "# Flatten the output of the convolutional layers to prepare for the fully connected layers\n",
        "model.add(Flatten())\n",
        "\n",
        "# Add a fully connected layer with 64 units\n",
        "model.add(Dense(64, activation='relu'))\n",
        "\n",
        "# Add the output layer with 10 units (one for each digit) and a softmax activation function\n",
        "model.add(Dense(10, activation='softmax'))\n"
      ],
      "metadata": {
        "id": "KZ5MyCOqkliZ"
      },
      "execution_count": null,
      "outputs": []
    },
    {
      "cell_type": "code",
      "source": [
        "# Compile the model with appropriate loss, optimizer, and metrics\n",
        "model.compile(optimizer='adam', loss='categorical_crossentropy', metrics=['accuracy']) #since output label is multiclass and it is one hot encoded hence loss function used is categorical crossentropy"
      ],
      "metadata": {
        "id": "sN_xux45klk1"
      },
      "execution_count": null,
      "outputs": []
    },
    {
      "cell_type": "code",
      "source": [
        "# Set the number of epochs and batch size\n",
        "epochs = 10\n",
        "batch_size = 128\n",
        "\n",
        "# Train the model on the training data\n",
        "history = model.fit(train_images, train_labels, epochs=epochs, batch_size=batch_size, validation_split=0.1)\n"
      ],
      "metadata": {
        "colab": {
          "base_uri": "https://localhost:8080/"
        },
        "id": "9x8LajQxlw37",
        "outputId": "4b00aeb9-4f5c-4bc7-ae8b-08dcd84f6750"
      },
      "execution_count": null,
      "outputs": [
        {
          "output_type": "stream",
          "name": "stdout",
          "text": [
            "Epoch 1/10\n",
            "422/422 [==============================] - 15s 7ms/step - loss: 0.2598 - accuracy: 0.9241 - val_loss: 0.0696 - val_accuracy: 0.9805\n",
            "Epoch 2/10\n",
            "422/422 [==============================] - 2s 5ms/step - loss: 0.0687 - accuracy: 0.9789 - val_loss: 0.0522 - val_accuracy: 0.9845\n",
            "Epoch 3/10\n",
            "422/422 [==============================] - 2s 5ms/step - loss: 0.0473 - accuracy: 0.9854 - val_loss: 0.0436 - val_accuracy: 0.9883\n",
            "Epoch 4/10\n",
            "422/422 [==============================] - 2s 5ms/step - loss: 0.0354 - accuracy: 0.9886 - val_loss: 0.0441 - val_accuracy: 0.9863\n",
            "Epoch 5/10\n",
            "422/422 [==============================] - 2s 5ms/step - loss: 0.0305 - accuracy: 0.9908 - val_loss: 0.0419 - val_accuracy: 0.9880\n",
            "Epoch 6/10\n",
            "422/422 [==============================] - 2s 5ms/step - loss: 0.0237 - accuracy: 0.9925 - val_loss: 0.0370 - val_accuracy: 0.9892\n",
            "Epoch 7/10\n",
            "422/422 [==============================] - 3s 6ms/step - loss: 0.0202 - accuracy: 0.9937 - val_loss: 0.0433 - val_accuracy: 0.9895\n",
            "Epoch 8/10\n",
            "422/422 [==============================] - 2s 5ms/step - loss: 0.0177 - accuracy: 0.9943 - val_loss: 0.0378 - val_accuracy: 0.9912\n",
            "Epoch 9/10\n",
            "422/422 [==============================] - 2s 5ms/step - loss: 0.0152 - accuracy: 0.9953 - val_loss: 0.0448 - val_accuracy: 0.9895\n",
            "Epoch 10/10\n",
            "422/422 [==============================] - 2s 5ms/step - loss: 0.0123 - accuracy: 0.9959 - val_loss: 0.0416 - val_accuracy: 0.9903\n"
          ]
        }
      ]
    },
    {
      "cell_type": "code",
      "source": [
        "# Evaluate the model on the test data\n",
        "test_loss, test_accuracy = model.evaluate(test_images, test_labels)\n",
        "\n",
        "print(f\"Test accuracy: {test_accuracy}\")\n"
      ],
      "metadata": {
        "colab": {
          "base_uri": "https://localhost:8080/"
        },
        "id": "p09Vq9UIl1CT",
        "outputId": "fb612825-d5fd-4678-9cec-d97c9e69be7d"
      },
      "execution_count": null,
      "outputs": [
        {
          "output_type": "stream",
          "name": "stdout",
          "text": [
            "313/313 [==============================] - 2s 4ms/step - loss: 0.0344 - accuracy: 0.9894\n",
            "Test accuracy: 0.9894000291824341\n"
          ]
        }
      ]
    },
    {
      "cell_type": "code",
      "source": [
        "# Plot the training and validation accuracy over epochs\n",
        "plt.plot(history.history['accuracy'], label='Training Accuracy')\n",
        "plt.plot(history.history['val_accuracy'], label='Validation Accuracy')\n",
        "plt.xlabel('Epoch')\n",
        "plt.ylabel('Accuracy')\n",
        "plt.legend()\n",
        "plt.show()"
      ],
      "metadata": {
        "colab": {
          "base_uri": "https://localhost:8080/",
          "height": 449
        },
        "id": "mKezdFKBmA9p",
        "outputId": "2597e214-75ad-4589-dda9-5220d87da09a"
      },
      "execution_count": null,
      "outputs": [
        {
          "output_type": "display_data",
          "data": {
            "text/plain": [
              "<Figure size 640x480 with 1 Axes>"
            ],
            "image/png": "[encoded data removed]"
          },
          "metadata": {}
        }
      ]
    },
    {
      "cell_type": "code",
      "source": [
        "# Plot the training and validation accuracy over epochs\n",
        "plt.plot(history.history['loss'], label='Trainig Loss')\n",
        "plt.plot(history.history['val_loss'], label='Validation Loss')\n",
        "plt.xlabel('Epoch')\n",
        "plt.ylabel('Loss')\n",
        "plt.legend()\n",
        "plt.show()"
      ],
      "metadata": {
        "colab": {
          "base_uri": "https://localhost:8080/",
          "height": 449
        },
        "id": "cRSpj6vsmJyR",
        "outputId": "4b94f215-f7bd-4518-ea86-f7b1e4c3e8db"
      },
      "execution_count": null,
      "outputs": [
        {
          "output_type": "display_data",
          "data": {
            "text/plain": [
              "<Figure size 640x480 with 1 Axes>"
            ],
            "image/png": "[encoded data removed]"
          },
          "metadata": {}
        }
      ]
    },
    {
      "cell_type": "markdown",
      "source": [
        "# Q 10. Use transfer learning for large image classification, going through these steps:\n",
        "a. Create a training set containing at least 100 images per class. For example, you could\n",
        "classify your own pictures based on the location (beach, mountain, city, etc.), or\n",
        "alternatively you can use an existing dataset (e.g., from TensorFlow Datasets).\n",
        "b. Split it into a training set, a validation set, and a test set.\n",
        "c. Build the input pipeline, including the appropriate preprocessing operations, and\n",
        "optionally add data augmentation.\n",
        "d. Fine-tune a pretrained model on this dataset."
      ],
      "metadata": {
        "id": "rnP1ZyETDb2y"
      }
    },
    {
      "cell_type": "markdown",
      "source": [
        "ANS: https://github.com/webstormuser/DeepLearning/blob/main/Practicals/Untitled7(1).ipynb"
      ],
      "metadata": {
        "id": "YiEubvS5Dfom"
      }
    },
    {
      "cell_type": "code",
      "source": [],
      "metadata": {
        "id": "AKcPOuzDDeyZ"
      },
      "execution_count": null,
      "outputs": []
    }
  ]
}